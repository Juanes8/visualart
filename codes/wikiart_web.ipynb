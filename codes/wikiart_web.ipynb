{
 "cells": [
  {
   "cell_type": "code",
   "execution_count": 1,
   "metadata": {
    "ExecuteTime": {
     "end_time": "2021-08-26T22:07:54.678318Z",
     "start_time": "2021-08-26T22:07:48.331318Z"
    }
   },
   "outputs": [],
   "source": [
    "from bs4 import BeautifulSoup\n",
    "import requests\n",
    "import urllib\n",
    "import json\n",
    "import pandas as pd\n",
    "from matplotlib.pyplot import imshow\n",
    "import matplotlib.pyplot as plt\n",
    "import matplotlib.image as mpimg"
   ]
  },
  {
   "cell_type": "code",
   "execution_count": 2,
   "metadata": {
    "ExecuteTime": {
     "end_time": "2021-08-26T22:07:54.694365Z",
     "start_time": "2021-08-26T22:07:54.685910Z"
    }
   },
   "outputs": [],
   "source": [
    "def scrape(url):\n",
    "    req = requests.get(url)\n",
    "    return url, req.text"
   ]
  },
  {
   "cell_type": "code",
   "execution_count": 3,
   "metadata": {
    "ExecuteTime": {
     "end_time": "2021-08-26T22:07:54.961059Z",
     "start_time": "2021-08-26T22:07:54.699864Z"
    }
   },
   "outputs": [],
   "source": [
    "pagina=\"https://www.wikiart.org\""
   ]
  },
  {
   "cell_type": "code",
   "execution_count": 4,
   "metadata": {
    "ExecuteTime": {
     "end_time": "2021-08-26T22:07:56.780453Z",
     "start_time": "2021-08-26T22:07:54.973742Z"
    }
   },
   "outputs": [],
   "source": [
    "soup=BeautifulSoup(scrape(pagina+\"/en/paintings-by-style\")[1])"
   ]
  },
  {
   "cell_type": "code",
   "execution_count": 5,
   "metadata": {
    "ExecuteTime": {
     "end_time": "2021-08-26T22:07:57.521300Z",
     "start_time": "2021-08-26T22:07:57.505401Z"
    }
   },
   "outputs": [],
   "source": [
    "styles=soup.find_all('ul',{\"class\":\"dictionaries-list\"})[0]\n",
    "styles=styles.find_all('li')"
   ]
  },
  {
   "cell_type": "code",
   "execution_count": 6,
   "metadata": {
    "ExecuteTime": {
     "end_time": "2021-08-26T22:07:58.452972Z",
     "start_time": "2021-08-26T22:07:58.414056Z"
    }
   },
   "outputs": [],
   "source": [
    "current_style=''\n",
    "pager_links=[]\n",
    "styles_links=[]\n",
    "for li in range(len(styles)):\n",
    "    if styles[li].find_all(\"a\",href=True)==[]:\n",
    "        current_style=styles[li].text.strip()\n",
    "    else:\n",
    "        pager_links.append(styles[li].find_all(\"a\",href=True)[0][\"href\"])\n",
    "        styles_links.append(current_style)"
   ]
  },
  {
   "cell_type": "code",
   "execution_count": 7,
   "metadata": {
    "ExecuteTime": {
     "end_time": "2021-08-26T22:12:08.645474Z",
     "start_time": "2021-08-26T22:07:59.435195Z"
    }
   },
   "outputs": [],
   "source": [
    "soup_images= [BeautifulSoup(scrape(pagina+x)[1]) for x in pager_links]"
   ]
  },
  {
   "cell_type": "code",
   "execution_count": 8,
   "metadata": {
    "ExecuteTime": {
     "end_time": "2021-08-26T22:12:18.899980Z",
     "start_time": "2021-08-26T22:12:18.713972Z"
    }
   },
   "outputs": [],
   "source": [
    "images_links = [x.find_all('main') for x in soup_images]"
   ]
  },
  {
   "cell_type": "code",
   "execution_count": 9,
   "metadata": {
    "ExecuteTime": {
     "end_time": "2021-08-26T22:12:19.379276Z",
     "start_time": "2021-08-26T22:12:19.182768Z"
    }
   },
   "outputs": [],
   "source": [
    "images_substyle = [x.find_all('h1')[0].text.strip() for x in soup_images]"
   ]
  },
  {
   "cell_type": "code",
   "execution_count": 10,
   "metadata": {
    "ExecuteTime": {
     "end_time": "2021-08-26T22:12:20.221664Z",
     "start_time": "2021-08-26T22:12:19.615318Z"
    }
   },
   "outputs": [],
   "source": [
    "links=[\"https:\"+str(x[0]).split(\"\\n\")[3].split(\",\")[1].split(\":\")[2][:-2] for x in images_links]"
   ]
  },
  {
   "cell_type": "code",
   "execution_count": 11,
   "metadata": {
    "ExecuteTime": {
     "end_time": "2021-08-26T22:15:12.683874Z",
     "start_time": "2021-08-26T22:12:20.231329Z"
    }
   },
   "outputs": [],
   "source": [
    "diccionario_wikiarts=[]\n",
    "for i,link in enumerate(links):\n",
    "    open_link = urllib.request.urlopen(link)\n",
    "    archivo = json.loads(open_link.read())\n",
    "    archivo[\"style\"]=styles_links[i]\n",
    "    archivo[\"substyle\"]=images_substyle[i]\n",
    "    diccionario_wikiarts.append(archivo)"
   ]
  },
  {
   "cell_type": "code",
   "execution_count": 12,
   "metadata": {
    "ExecuteTime": {
     "end_time": "2021-08-26T22:15:13.160729Z",
     "start_time": "2021-08-26T22:15:12.687756Z"
    }
   },
   "outputs": [],
   "source": [
    "pd.to_pickle(diccionario_wikiarts,\"/home/uriel/itam/semestre1/mineria_y_analisis_de_datos/wikiart/dict_wikiarts.pkl\")"
   ]
  },
  {
   "cell_type": "code",
   "execution_count": 13,
   "metadata": {
    "ExecuteTime": {
     "end_time": "2021-08-26T22:15:28.674140Z",
     "start_time": "2021-08-26T22:15:28.651506Z"
    }
   },
   "outputs": [
    {
     "name": "stdout",
     "output_type": "stream",
     "text": [
      "10144\n"
     ]
    }
   ],
   "source": [
    "suma=0\n",
    "for i in diccionario_wikiarts:\n",
    "    imagenes=i[\"Paintings\"]\n",
    "    for j in  imagenes:\n",
    "        imagen=j[\"image\"]\n",
    "        suma=suma+1\n",
    "print(suma)"
   ]
  },
  {
   "cell_type": "code",
   "execution_count": null,
   "metadata": {
    "ExecuteTime": {
     "end_time": "2021-08-26T22:31:40.361257Z",
     "start_time": "2021-08-26T22:16:11.679285Z"
    }
   },
   "outputs": [],
   "source": [
    "for i in diccionario_wikiarts:\n",
    "    imagenes=i[\"Paintings\"]\n",
    "    for j in  imagenes:\n",
    "        imagen=j[\"image\"]\n",
    "        id_=j[\"id\"]\n",
    "        obtener = requests.get(imagen,stream=True)\n",
    "        with open(\"/home/uriel/itam/semestre1/mineria_y_analisis_de_datos/wikiart/\" + id_ +\".jpg\", 'wb') as imagen:\n",
    "            imagen.write(obtener.content)"
   ]
  },
  {
   "cell_type": "markdown",
   "metadata": {},
   "source": [
    "**Ya tengo las primeras 224 imágenes del diccionario**"
   ]
  },
  {
   "cell_type": "code",
   "execution_count": null,
   "metadata": {},
   "outputs": [],
   "source": []
  },
  {
   "cell_type": "code",
   "execution_count": null,
   "metadata": {},
   "outputs": [],
   "source": []
  },
  {
   "cell_type": "code",
   "execution_count": null,
   "metadata": {},
   "outputs": [],
   "source": []
  }
 ],
 "metadata": {
  "kernelspec": {
   "display_name": "virtual_itam",
   "language": "python",
   "name": "virtual_itam"
  },
  "language_info": {
   "codemirror_mode": {
    "name": "ipython",
    "version": 3
   },
   "file_extension": ".py",
   "mimetype": "text/x-python",
   "name": "python",
   "nbconvert_exporter": "python",
   "pygments_lexer": "ipython3",
   "version": "3.8.10"
  },
  "toc": {
   "base_numbering": 1,
   "nav_menu": {},
   "number_sections": true,
   "sideBar": true,
   "skip_h1_title": false,
   "title_cell": "Table of Contents",
   "title_sidebar": "Contents",
   "toc_cell": false,
   "toc_position": {},
   "toc_section_display": true,
   "toc_window_display": false
  }
 },
 "nbformat": 4,
 "nbformat_minor": 4
}
