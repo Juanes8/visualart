{
 "cells": [
  {
   "cell_type": "code",
   "execution_count": 50,
   "metadata": {
    "ExecuteTime": {
     "end_time": "2021-09-19T07:00:16.676943Z",
     "start_time": "2021-09-19T07:00:16.591180Z"
    }
   },
   "outputs": [],
   "source": [
    "from bs4 import BeautifulSoup\n",
    "import requests\n",
    "import urllib\n",
    "import json\n",
    "import pandas as pd\n",
    "from matplotlib.pyplot import imshow\n",
    "import matplotlib.pyplot as plt\n",
    "import matplotlib.image as mpimg\n",
    "import pickle\n",
    "import seaborn as sns \n",
    "import glob\n",
    "from skimage.io import imread\n",
    "import numpy as np\n",
    "from skimage.transform import resize\n",
    "from sklearn.feature_selection import SelectKBest, f_classif\n",
    "from GIST import GIST\n",
    "from skimage.feature import hog\n",
    "\n",
    "path=\"/home/uriel/itam/semestre1/mineria_y_analisis_de_datos/wikiart/\""
   ]
  },
  {
   "cell_type": "markdown",
   "metadata": {},
   "source": [
    "### Web scraping"
   ]
  },
  {
   "cell_type": "code",
   "execution_count": 2,
   "metadata": {
    "ExecuteTime": {
     "end_time": "2021-09-19T04:35:43.195585Z",
     "start_time": "2021-09-19T04:35:43.186280Z"
    }
   },
   "outputs": [],
   "source": [
    "def scrape(url):\n",
    "    req = requests.get(url)\n",
    "    return url, req.text"
   ]
  },
  {
   "cell_type": "code",
   "execution_count": 3,
   "metadata": {
    "ExecuteTime": {
     "end_time": "2021-09-19T04:35:43.799410Z",
     "start_time": "2021-09-19T04:35:43.791545Z"
    }
   },
   "outputs": [],
   "source": [
    "pagina=\"https://www.wikiart.org\""
   ]
  },
  {
   "cell_type": "code",
   "execution_count": 4,
   "metadata": {
    "ExecuteTime": {
     "end_time": "2021-09-19T04:35:46.435783Z",
     "start_time": "2021-09-19T04:35:44.418276Z"
    }
   },
   "outputs": [],
   "source": [
    "soup=BeautifulSoup(scrape(pagina+\"/en/paintings-by-style\")[1])"
   ]
  },
  {
   "cell_type": "code",
   "execution_count": 5,
   "metadata": {
    "ExecuteTime": {
     "end_time": "2021-09-19T04:35:48.365727Z",
     "start_time": "2021-09-19T04:35:48.354318Z"
    }
   },
   "outputs": [],
   "source": [
    "styles=soup.find_all('ul',{\"class\":\"dictionaries-list\"})[0]\n",
    "styles=styles.find_all('li')"
   ]
  },
  {
   "cell_type": "code",
   "execution_count": 6,
   "metadata": {
    "ExecuteTime": {
     "end_time": "2021-09-19T04:35:49.545317Z",
     "start_time": "2021-09-19T04:35:49.513273Z"
    }
   },
   "outputs": [],
   "source": [
    "current_style=''\n",
    "pager_links=[]\n",
    "styles_links=[]\n",
    "for li in range(len(styles)):\n",
    "    if styles[li].find_all(\"a\",href=True)==[]:\n",
    "        current_style=styles[li].text.strip()\n",
    "    else:\n",
    "        pager_links.append(styles[li].find_all(\"a\",href=True)[0][\"href\"])\n",
    "        styles_links.append(current_style)"
   ]
  },
  {
   "cell_type": "code",
   "execution_count": 7,
   "metadata": {
    "ExecuteTime": {
     "end_time": "2021-09-19T04:40:23.981381Z",
     "start_time": "2021-09-19T04:35:51.235820Z"
    }
   },
   "outputs": [],
   "source": [
    "soup_images= [BeautifulSoup(scrape(pagina+x)[1]) for x in pager_links]"
   ]
  },
  {
   "cell_type": "code",
   "execution_count": 9,
   "metadata": {
    "ExecuteTime": {
     "end_time": "2021-09-19T04:40:42.245068Z",
     "start_time": "2021-09-19T04:40:42.119093Z"
    }
   },
   "outputs": [],
   "source": [
    "images_links = [x.find_all('main') for x in soup_images]"
   ]
  },
  {
   "cell_type": "code",
   "execution_count": 10,
   "metadata": {
    "ExecuteTime": {
     "end_time": "2021-09-19T04:40:43.420756Z",
     "start_time": "2021-09-19T04:40:43.232825Z"
    }
   },
   "outputs": [],
   "source": [
    "images_substyle = [x.find_all('h1')[0].text.strip() if len(x.find_all('h1'))>0 else \"\" for x in soup_images]"
   ]
  },
  {
   "cell_type": "code",
   "execution_count": 11,
   "metadata": {
    "ExecuteTime": {
     "end_time": "2021-09-19T04:40:44.728063Z",
     "start_time": "2021-09-19T04:40:44.348698Z"
    }
   },
   "outputs": [],
   "source": [
    "links=[\"https:\"+str(x[0]).split(\"\\n\")[3].split(\",\")[1].split(\":\")[2][:-2] if len(x)>0 else \"\" for x in images_links]"
   ]
  },
  {
   "cell_type": "code",
   "execution_count": 12,
   "metadata": {
    "ExecuteTime": {
     "end_time": "2021-09-19T04:44:01.169137Z",
     "start_time": "2021-09-19T04:40:45.696686Z"
    }
   },
   "outputs": [],
   "source": [
    "diccionario_wikiarts=[]\n",
    "for i,link in enumerate(links):\n",
    "    if link!='':\n",
    "        open_link = urllib.request.urlopen(link)\n",
    "        archivo = json.loads(open_link.read())\n",
    "        archivo[\"style\"]=styles_links[i]\n",
    "        archivo[\"substyle\"]=images_substyle[i]\n",
    "        diccionario_wikiarts.append(archivo)"
   ]
  },
  {
   "cell_type": "code",
   "execution_count": 13,
   "metadata": {
    "ExecuteTime": {
     "end_time": "2021-09-19T04:44:04.494297Z",
     "start_time": "2021-09-19T04:44:04.484950Z"
    }
   },
   "outputs": [],
   "source": [
    "#pd.to_pickle(diccionario_wikiarts,\"dict_wikiarts.pkl\")"
   ]
  },
  {
   "cell_type": "code",
   "execution_count": 14,
   "metadata": {
    "ExecuteTime": {
     "end_time": "2021-09-19T04:44:05.231630Z",
     "start_time": "2021-09-19T04:44:05.213345Z"
    }
   },
   "outputs": [
    {
     "name": "stdout",
     "output_type": "stream",
     "text": [
      "10147\n"
     ]
    }
   ],
   "source": [
    "suma=0\n",
    "for i in diccionario_wikiarts:\n",
    "    imagenes=i[\"Paintings\"]\n",
    "    for j in  imagenes:\n",
    "        imagen=j[\"image\"]\n",
    "        suma=suma+1\n",
    "print(suma)"
   ]
  },
  {
   "cell_type": "markdown",
   "metadata": {},
   "source": [
    "### EDA"
   ]
  },
  {
   "cell_type": "code",
   "execution_count": 25,
   "metadata": {
    "ExecuteTime": {
     "end_time": "2021-09-19T06:52:16.399107Z",
     "start_time": "2021-09-19T06:52:16.388879Z"
    }
   },
   "outputs": [],
   "source": [
    "infile=open(path+'dict_wikiarts.pkl', 'rb')"
   ]
  },
  {
   "cell_type": "code",
   "execution_count": 26,
   "metadata": {
    "ExecuteTime": {
     "end_time": "2021-09-19T06:52:17.461813Z",
     "start_time": "2021-09-19T06:52:17.003766Z"
    }
   },
   "outputs": [],
   "source": [
    "new_dict=pickle.load(infile)\n",
    "infile.close()"
   ]
  },
  {
   "cell_type": "code",
   "execution_count": 27,
   "metadata": {
    "ExecuteTime": {
     "end_time": "2021-09-19T06:52:17.479657Z",
     "start_time": "2021-09-19T06:52:17.464885Z"
    }
   },
   "outputs": [
    {
     "data": {
      "text/plain": [
       "{'ArtistsHtml': None,\n",
       " 'CanLoadMoreArtists': False,\n",
       " 'Paintings': [{'id': '5dea9d1bedc2c91fccabcd13',\n",
       "   'title': 'Narmer Palette',\n",
       "   'year': '3050 BC',\n",
       "   'width': 2566,\n",
       "   'height': 1808,\n",
       "   'artistName': 'Ancient Egypt',\n",
       "   'image': 'https://uploads3.wikiart.org/00265/images/ancient-egyptian-painting/narmer-palette.jpg',\n",
       "   'map': '01234567*',\n",
       "   'paintingUrl': '/en/ancient-egyptian-painting/narmer-palette--3050',\n",
       "   'artistUrl': '/en/ancient-egyptian-painting',\n",
       "   'albums': None,\n",
       "   'flags': 2,\n",
       "   'images': None},\n",
       "  {'id': '5d2480a0edc2c924d8d1e05f',\n",
       "   'title': 'Box Inlay with a Geometric Pattern',\n",
       "   'year': '3100-2900 BC',\n",
       "   'width': 1200,\n",
       "   'height': 560,\n",
       "   'artistName': 'Ancient Egypt',\n",
       "   'image': 'https://uploads2.wikiart.org/00244/images/ancient-egyptian-painting/box-inlay-with-a-geometric-pattern-ca-3100-2900-b-c.jpg',\n",
       "   'map': '0123**67*',\n",
       "   'paintingUrl': '/en/ancient-egyptian-painting/box-inlay-with-a-geometric-pattern--2900',\n",
       "   'artistUrl': '/en/ancient-egyptian-painting',\n",
       "   'albums': None,\n",
       "   'flags': 2,\n",
       "   'images': None}],\n",
       " 'Artists': None,\n",
       " 'AllArtistsCount': 0,\n",
       " 'PaintingsHtml': None,\n",
       " 'PaintingsHtmlBeta': None,\n",
       " 'AllPaintingsCount': 2,\n",
       " 'PageSize': 60,\n",
       " 'TimeLog': None,\n",
       " 'style': 'Ancient Egyptian Art',\n",
       " 'substyle': 'Early Dynastic'}"
      ]
     },
     "execution_count": 27,
     "metadata": {},
     "output_type": "execute_result"
    }
   ],
   "source": [
    "new_dict[0]"
   ]
  },
  {
   "cell_type": "code",
   "execution_count": 28,
   "metadata": {
    "ExecuteTime": {
     "end_time": "2021-09-19T06:52:18.950928Z",
     "start_time": "2021-09-19T06:52:18.942197Z"
    }
   },
   "outputs": [],
   "source": [
    "Paintings = list(map(lambda x : x['Paintings'], new_dict))\n",
    "Styles = list(map(lambda x : x['style'], new_dict))\n",
    "Substyles = list(map(lambda x : x['substyle'], new_dict))"
   ]
  },
  {
   "cell_type": "code",
   "execution_count": 29,
   "metadata": {
    "ExecuteTime": {
     "end_time": "2021-09-19T06:52:19.242895Z",
     "start_time": "2021-09-19T06:52:19.231366Z"
    }
   },
   "outputs": [
    {
     "data": {
      "text/plain": [
       "list"
      ]
     },
     "execution_count": 29,
     "metadata": {},
     "output_type": "execute_result"
    }
   ],
   "source": [
    "type(Paintings)"
   ]
  },
  {
   "cell_type": "code",
   "execution_count": 30,
   "metadata": {
    "ExecuteTime": {
     "end_time": "2021-09-19T06:52:19.490187Z",
     "start_time": "2021-09-19T06:52:19.423521Z"
    }
   },
   "outputs": [
    {
     "data": {
      "text/plain": [
       "217"
      ]
     },
     "execution_count": 30,
     "metadata": {},
     "output_type": "execute_result"
    }
   ],
   "source": [
    "len(Paintings)"
   ]
  },
  {
   "cell_type": "code",
   "execution_count": 31,
   "metadata": {
    "ExecuteTime": {
     "end_time": "2021-09-19T06:52:20.731488Z",
     "start_time": "2021-09-19T06:52:20.722514Z"
    }
   },
   "outputs": [],
   "source": [
    "Title=[]\n",
    "Style=[]\n",
    "Substyle=[]\n",
    "ID=[]\n",
    "n=0\n",
    "np=0"
   ]
  },
  {
   "cell_type": "code",
   "execution_count": 32,
   "metadata": {
    "ExecuteTime": {
     "end_time": "2021-09-19T06:52:21.153263Z",
     "start_time": "2021-09-19T06:52:21.129420Z"
    }
   },
   "outputs": [],
   "source": [
    "for i in range (len(Paintings)):\n",
    "    np=0\n",
    "    for e in range (len(Paintings[i])):\n",
    "        Title.append(Paintings[i][np]['title'])\n",
    "        Style.append(Styles[i])\n",
    "        Substyle.append(Substyles[i])\n",
    "        ID.append(Paintings[i][np]['id'])\n",
    "        np+=1"
   ]
  },
  {
   "cell_type": "code",
   "execution_count": 33,
   "metadata": {
    "ExecuteTime": {
     "end_time": "2021-09-19T06:52:21.263437Z",
     "start_time": "2021-09-19T06:52:21.256744Z"
    }
   },
   "outputs": [
    {
     "data": {
      "text/plain": [
       "10144"
      ]
     },
     "execution_count": 33,
     "metadata": {},
     "output_type": "execute_result"
    }
   ],
   "source": [
    "len(Title)"
   ]
  },
  {
   "cell_type": "code",
   "execution_count": 34,
   "metadata": {
    "ExecuteTime": {
     "end_time": "2021-09-19T06:52:22.335423Z",
     "start_time": "2021-09-19T06:52:22.326878Z"
    }
   },
   "outputs": [],
   "source": [
    "Year=[]\n",
    "Image_URL=[]\n",
    "Artist_Name=[]"
   ]
  },
  {
   "cell_type": "code",
   "execution_count": 35,
   "metadata": {
    "ExecuteTime": {
     "end_time": "2021-09-19T06:52:23.762715Z",
     "start_time": "2021-09-19T06:52:23.723500Z"
    }
   },
   "outputs": [],
   "source": [
    "for i in range (len(Paintings)):\n",
    "    np=0\n",
    "    for e in range (len(Paintings[i])):\n",
    "        Year.append(Paintings[i][np]['year'])\n",
    "        np+=1\n",
    "        \n",
    "for i in range (len(Paintings)):\n",
    "    np=0\n",
    "    for e in range (len(Paintings[i])):\n",
    "        Image_URL.append(Paintings[i][np]['image'])\n",
    "        np+=1\n",
    "\n",
    "for i in range (len(Paintings)):\n",
    "    np=0\n",
    "    for e in range (len(Paintings[i])):\n",
    "        Artist_Name.append(Paintings[i][np]['artistName'])\n",
    "        np+=1"
   ]
  },
  {
   "cell_type": "code",
   "execution_count": 36,
   "metadata": {
    "ExecuteTime": {
     "end_time": "2021-09-19T06:52:23.964145Z",
     "start_time": "2021-09-19T06:52:23.950453Z"
    }
   },
   "outputs": [
    {
     "data": {
      "text/plain": [
       "10144"
      ]
     },
     "execution_count": 36,
     "metadata": {},
     "output_type": "execute_result"
    }
   ],
   "source": [
    "len(Year)"
   ]
  },
  {
   "cell_type": "code",
   "execution_count": 37,
   "metadata": {
    "ExecuteTime": {
     "end_time": "2021-09-19T06:52:24.084810Z",
     "start_time": "2021-09-19T06:52:24.072323Z"
    }
   },
   "outputs": [
    {
     "data": {
      "text/plain": [
       "10144"
      ]
     },
     "execution_count": 37,
     "metadata": {},
     "output_type": "execute_result"
    }
   ],
   "source": [
    "len(Image_URL)"
   ]
  },
  {
   "cell_type": "code",
   "execution_count": 38,
   "metadata": {
    "ExecuteTime": {
     "end_time": "2021-09-19T06:52:24.283948Z",
     "start_time": "2021-09-19T06:52:24.272280Z"
    }
   },
   "outputs": [
    {
     "data": {
      "text/plain": [
       "10144"
      ]
     },
     "execution_count": 38,
     "metadata": {},
     "output_type": "execute_result"
    }
   ],
   "source": [
    "len(Artist_Name)"
   ]
  },
  {
   "cell_type": "code",
   "execution_count": 39,
   "metadata": {
    "ExecuteTime": {
     "end_time": "2021-09-19T06:52:25.884579Z",
     "start_time": "2021-09-19T06:52:25.724217Z"
    }
   },
   "outputs": [],
   "source": [
    "Art = pd.DataFrame({'Title':Title, 'Artist Name':Artist_Name, 'Year':Year, 'Image URL':Image_URL,\n",
    "                   \"Style\":Style,\"Substyle\":Substyle,\"ID\":ID})"
   ]
  },
  {
   "cell_type": "code",
   "execution_count": 166,
   "metadata": {
    "ExecuteTime": {
     "end_time": "2021-09-19T05:43:50.102948Z",
     "start_time": "2021-09-19T05:43:49.355514Z"
    }
   },
   "outputs": [],
   "source": [
    "ArtistName = (Art.groupby('Artist Name').count()).sort_values(by='Title', ascending = False)"
   ]
  },
  {
   "cell_type": "code",
   "execution_count": 167,
   "metadata": {
    "ExecuteTime": {
     "end_time": "2021-09-19T05:43:51.052928Z",
     "start_time": "2021-09-19T05:43:51.019277Z"
    }
   },
   "outputs": [
    {
     "data": {
      "text/html": [
       "<div>\n",
       "<style scoped>\n",
       "    .dataframe tbody tr th:only-of-type {\n",
       "        vertical-align: middle;\n",
       "    }\n",
       "\n",
       "    .dataframe tbody tr th {\n",
       "        vertical-align: top;\n",
       "    }\n",
       "\n",
       "    .dataframe thead th {\n",
       "        text-align: right;\n",
       "    }\n",
       "</style>\n",
       "<table border=\"1\" class=\"dataframe\">\n",
       "  <thead>\n",
       "    <tr style=\"text-align: right;\">\n",
       "      <th></th>\n",
       "      <th>Title</th>\n",
       "      <th>Year</th>\n",
       "      <th>Image URL</th>\n",
       "      <th>Style</th>\n",
       "      <th>Substyle</th>\n",
       "      <th>ID</th>\n",
       "    </tr>\n",
       "    <tr>\n",
       "      <th>Artist Name</th>\n",
       "      <th></th>\n",
       "      <th></th>\n",
       "      <th></th>\n",
       "      <th></th>\n",
       "      <th></th>\n",
       "      <th></th>\n",
       "    </tr>\n",
       "  </thead>\n",
       "  <tbody>\n",
       "    <tr>\n",
       "      <th>Byzantine Mosaics</th>\n",
       "      <td>294</td>\n",
       "      <td>294</td>\n",
       "      <td>294</td>\n",
       "      <td>294</td>\n",
       "      <td>294</td>\n",
       "      <td>294</td>\n",
       "    </tr>\n",
       "    <tr>\n",
       "      <th>Orthodox Icons</th>\n",
       "      <td>218</td>\n",
       "      <td>218</td>\n",
       "      <td>218</td>\n",
       "      <td>218</td>\n",
       "      <td>218</td>\n",
       "      <td>218</td>\n",
       "    </tr>\n",
       "    <tr>\n",
       "      <th>Kazimir Malevich</th>\n",
       "      <td>158</td>\n",
       "      <td>158</td>\n",
       "      <td>158</td>\n",
       "      <td>158</td>\n",
       "      <td>158</td>\n",
       "      <td>158</td>\n",
       "    </tr>\n",
       "    <tr>\n",
       "      <th>Ancient Egypt</th>\n",
       "      <td>109</td>\n",
       "      <td>109</td>\n",
       "      <td>109</td>\n",
       "      <td>109</td>\n",
       "      <td>109</td>\n",
       "      <td>109</td>\n",
       "    </tr>\n",
       "    <tr>\n",
       "      <th>Alfred Freddy Krupa</th>\n",
       "      <td>103</td>\n",
       "      <td>103</td>\n",
       "      <td>103</td>\n",
       "      <td>103</td>\n",
       "      <td>103</td>\n",
       "      <td>103</td>\n",
       "    </tr>\n",
       "    <tr>\n",
       "      <th>Paul Cezanne</th>\n",
       "      <td>94</td>\n",
       "      <td>94</td>\n",
       "      <td>94</td>\n",
       "      <td>94</td>\n",
       "      <td>94</td>\n",
       "      <td>94</td>\n",
       "    </tr>\n",
       "    <tr>\n",
       "      <th>Georges Seurat</th>\n",
       "      <td>91</td>\n",
       "      <td>91</td>\n",
       "      <td>91</td>\n",
       "      <td>91</td>\n",
       "      <td>91</td>\n",
       "      <td>91</td>\n",
       "    </tr>\n",
       "    <tr>\n",
       "      <th>Giorgio de Chirico</th>\n",
       "      <td>86</td>\n",
       "      <td>86</td>\n",
       "      <td>86</td>\n",
       "      <td>86</td>\n",
       "      <td>86</td>\n",
       "      <td>86</td>\n",
       "    </tr>\n",
       "    <tr>\n",
       "      <th>Ancient Greek Painting and Sculpture</th>\n",
       "      <td>71</td>\n",
       "      <td>71</td>\n",
       "      <td>71</td>\n",
       "      <td>71</td>\n",
       "      <td>71</td>\n",
       "      <td>71</td>\n",
       "    </tr>\n",
       "    <tr>\n",
       "      <th>Fayum portrait</th>\n",
       "      <td>70</td>\n",
       "      <td>70</td>\n",
       "      <td>70</td>\n",
       "      <td>70</td>\n",
       "      <td>70</td>\n",
       "      <td>70</td>\n",
       "    </tr>\n",
       "    <tr>\n",
       "      <th>Felix Vallotton</th>\n",
       "      <td>69</td>\n",
       "      <td>69</td>\n",
       "      <td>69</td>\n",
       "      <td>69</td>\n",
       "      <td>69</td>\n",
       "      <td>69</td>\n",
       "    </tr>\n",
       "    <tr>\n",
       "      <th>Louise Bourgeois</th>\n",
       "      <td>68</td>\n",
       "      <td>68</td>\n",
       "      <td>68</td>\n",
       "      <td>68</td>\n",
       "      <td>68</td>\n",
       "      <td>68</td>\n",
       "    </tr>\n",
       "    <tr>\n",
       "      <th>Caravaggio</th>\n",
       "      <td>67</td>\n",
       "      <td>67</td>\n",
       "      <td>67</td>\n",
       "      <td>67</td>\n",
       "      <td>67</td>\n",
       "      <td>67</td>\n",
       "    </tr>\n",
       "    <tr>\n",
       "      <th>Ancient Greek Pottery</th>\n",
       "      <td>67</td>\n",
       "      <td>67</td>\n",
       "      <td>67</td>\n",
       "      <td>67</td>\n",
       "      <td>67</td>\n",
       "      <td>67</td>\n",
       "    </tr>\n",
       "    <tr>\n",
       "      <th>Kent Monkman</th>\n",
       "      <td>65</td>\n",
       "      <td>65</td>\n",
       "      <td>65</td>\n",
       "      <td>65</td>\n",
       "      <td>65</td>\n",
       "      <td>65</td>\n",
       "    </tr>\n",
       "    <tr>\n",
       "      <th>William Blake</th>\n",
       "      <td>60</td>\n",
       "      <td>60</td>\n",
       "      <td>60</td>\n",
       "      <td>60</td>\n",
       "      <td>60</td>\n",
       "      <td>60</td>\n",
       "    </tr>\n",
       "    <tr>\n",
       "      <th>Viking art</th>\n",
       "      <td>60</td>\n",
       "      <td>60</td>\n",
       "      <td>60</td>\n",
       "      <td>60</td>\n",
       "      <td>60</td>\n",
       "      <td>60</td>\n",
       "    </tr>\n",
       "    <tr>\n",
       "      <th>Aztec Art</th>\n",
       "      <td>60</td>\n",
       "      <td>60</td>\n",
       "      <td>60</td>\n",
       "      <td>60</td>\n",
       "      <td>60</td>\n",
       "      <td>60</td>\n",
       "    </tr>\n",
       "    <tr>\n",
       "      <th>Friedensreich Hundertwasser</th>\n",
       "      <td>60</td>\n",
       "      <td>60</td>\n",
       "      <td>60</td>\n",
       "      <td>60</td>\n",
       "      <td>60</td>\n",
       "      <td>60</td>\n",
       "    </tr>\n",
       "    <tr>\n",
       "      <th>Pavel Filonov</th>\n",
       "      <td>60</td>\n",
       "      <td>60</td>\n",
       "      <td>60</td>\n",
       "      <td>60</td>\n",
       "      <td>60</td>\n",
       "      <td>60</td>\n",
       "    </tr>\n",
       "    <tr>\n",
       "      <th>Romanesque Architecture</th>\n",
       "      <td>60</td>\n",
       "      <td>60</td>\n",
       "      <td>60</td>\n",
       "      <td>60</td>\n",
       "      <td>60</td>\n",
       "      <td>60</td>\n",
       "    </tr>\n",
       "    <tr>\n",
       "      <th>Franz Xaver Winterhalter</th>\n",
       "      <td>59</td>\n",
       "      <td>59</td>\n",
       "      <td>59</td>\n",
       "      <td>59</td>\n",
       "      <td>59</td>\n",
       "      <td>59</td>\n",
       "    </tr>\n",
       "    <tr>\n",
       "      <th>Richard Lindner</th>\n",
       "      <td>59</td>\n",
       "      <td>59</td>\n",
       "      <td>59</td>\n",
       "      <td>59</td>\n",
       "      <td>59</td>\n",
       "      <td>59</td>\n",
       "    </tr>\n",
       "    <tr>\n",
       "      <th>Nicholas of Verdun</th>\n",
       "      <td>57</td>\n",
       "      <td>57</td>\n",
       "      <td>57</td>\n",
       "      <td>57</td>\n",
       "      <td>57</td>\n",
       "      <td>57</td>\n",
       "    </tr>\n",
       "    <tr>\n",
       "      <th>Pablo Picasso</th>\n",
       "      <td>57</td>\n",
       "      <td>57</td>\n",
       "      <td>57</td>\n",
       "      <td>57</td>\n",
       "      <td>57</td>\n",
       "      <td>57</td>\n",
       "    </tr>\n",
       "    <tr>\n",
       "      <th>Andrei Rublev</th>\n",
       "      <td>56</td>\n",
       "      <td>56</td>\n",
       "      <td>56</td>\n",
       "      <td>56</td>\n",
       "      <td>56</td>\n",
       "      <td>56</td>\n",
       "    </tr>\n",
       "    <tr>\n",
       "      <th>Gerhard Richter</th>\n",
       "      <td>56</td>\n",
       "      <td>56</td>\n",
       "      <td>56</td>\n",
       "      <td>56</td>\n",
       "      <td>56</td>\n",
       "      <td>56</td>\n",
       "    </tr>\n",
       "    <tr>\n",
       "      <th>Jose Guadalupe Posada</th>\n",
       "      <td>55</td>\n",
       "      <td>55</td>\n",
       "      <td>55</td>\n",
       "      <td>55</td>\n",
       "      <td>55</td>\n",
       "      <td>55</td>\n",
       "    </tr>\n",
       "    <tr>\n",
       "      <th>Alex Katz</th>\n",
       "      <td>54</td>\n",
       "      <td>54</td>\n",
       "      <td>54</td>\n",
       "      <td>54</td>\n",
       "      <td>54</td>\n",
       "      <td>54</td>\n",
       "    </tr>\n",
       "    <tr>\n",
       "      <th>Josef Kriehuber</th>\n",
       "      <td>51</td>\n",
       "      <td>51</td>\n",
       "      <td>51</td>\n",
       "      <td>51</td>\n",
       "      <td>51</td>\n",
       "      <td>51</td>\n",
       "    </tr>\n",
       "    <tr>\n",
       "      <th>Owen Jones</th>\n",
       "      <td>50</td>\n",
       "      <td>50</td>\n",
       "      <td>50</td>\n",
       "      <td>50</td>\n",
       "      <td>50</td>\n",
       "      <td>50</td>\n",
       "    </tr>\n",
       "    <tr>\n",
       "      <th>Georges Braque</th>\n",
       "      <td>49</td>\n",
       "      <td>49</td>\n",
       "      <td>49</td>\n",
       "      <td>49</td>\n",
       "      <td>49</td>\n",
       "      <td>49</td>\n",
       "    </tr>\n",
       "    <tr>\n",
       "      <th>Felix Nadar</th>\n",
       "      <td>49</td>\n",
       "      <td>49</td>\n",
       "      <td>49</td>\n",
       "      <td>49</td>\n",
       "      <td>49</td>\n",
       "      <td>49</td>\n",
       "    </tr>\n",
       "    <tr>\n",
       "      <th>Diego Rivera</th>\n",
       "      <td>48</td>\n",
       "      <td>48</td>\n",
       "      <td>48</td>\n",
       "      <td>48</td>\n",
       "      <td>48</td>\n",
       "      <td>48</td>\n",
       "    </tr>\n",
       "    <tr>\n",
       "      <th>Theo van Doesburg</th>\n",
       "      <td>48</td>\n",
       "      <td>48</td>\n",
       "      <td>48</td>\n",
       "      <td>48</td>\n",
       "      <td>48</td>\n",
       "      <td>48</td>\n",
       "    </tr>\n",
       "    <tr>\n",
       "      <th>Jean Baptiste Vanmour</th>\n",
       "      <td>47</td>\n",
       "      <td>47</td>\n",
       "      <td>47</td>\n",
       "      <td>47</td>\n",
       "      <td>47</td>\n",
       "      <td>47</td>\n",
       "    </tr>\n",
       "    <tr>\n",
       "      <th>Fernand Leger</th>\n",
       "      <td>47</td>\n",
       "      <td>47</td>\n",
       "      <td>47</td>\n",
       "      <td>47</td>\n",
       "      <td>47</td>\n",
       "      <td>47</td>\n",
       "    </tr>\n",
       "    <tr>\n",
       "      <th>Paul Gauguin</th>\n",
       "      <td>46</td>\n",
       "      <td>46</td>\n",
       "      <td>46</td>\n",
       "      <td>46</td>\n",
       "      <td>46</td>\n",
       "      <td>46</td>\n",
       "    </tr>\n",
       "    <tr>\n",
       "      <th>Pierre Alechinsky</th>\n",
       "      <td>46</td>\n",
       "      <td>46</td>\n",
       "      <td>46</td>\n",
       "      <td>46</td>\n",
       "      <td>46</td>\n",
       "      <td>46</td>\n",
       "    </tr>\n",
       "    <tr>\n",
       "      <th>Frank Mason</th>\n",
       "      <td>46</td>\n",
       "      <td>46</td>\n",
       "      <td>46</td>\n",
       "      <td>46</td>\n",
       "      <td>46</td>\n",
       "      <td>46</td>\n",
       "    </tr>\n",
       "    <tr>\n",
       "      <th>Robert Henri</th>\n",
       "      <td>46</td>\n",
       "      <td>46</td>\n",
       "      <td>46</td>\n",
       "      <td>46</td>\n",
       "      <td>46</td>\n",
       "      <td>46</td>\n",
       "    </tr>\n",
       "    <tr>\n",
       "      <th>Giotto</th>\n",
       "      <td>46</td>\n",
       "      <td>46</td>\n",
       "      <td>46</td>\n",
       "      <td>46</td>\n",
       "      <td>46</td>\n",
       "      <td>46</td>\n",
       "    </tr>\n",
       "    <tr>\n",
       "      <th>Ike no Taiga</th>\n",
       "      <td>45</td>\n",
       "      <td>45</td>\n",
       "      <td>45</td>\n",
       "      <td>45</td>\n",
       "      <td>45</td>\n",
       "      <td>45</td>\n",
       "    </tr>\n",
       "    <tr>\n",
       "      <th>Miriam Schapiro</th>\n",
       "      <td>44</td>\n",
       "      <td>44</td>\n",
       "      <td>44</td>\n",
       "      <td>44</td>\n",
       "      <td>44</td>\n",
       "      <td>44</td>\n",
       "    </tr>\n",
       "    <tr>\n",
       "      <th>Nicolas Poussin</th>\n",
       "      <td>43</td>\n",
       "      <td>43</td>\n",
       "      <td>43</td>\n",
       "      <td>43</td>\n",
       "      <td>43</td>\n",
       "      <td>43</td>\n",
       "    </tr>\n",
       "    <tr>\n",
       "      <th>Wojciech Siudmak</th>\n",
       "      <td>43</td>\n",
       "      <td>43</td>\n",
       "      <td>43</td>\n",
       "      <td>43</td>\n",
       "      <td>43</td>\n",
       "      <td>43</td>\n",
       "    </tr>\n",
       "    <tr>\n",
       "      <th>Jackson Pollock</th>\n",
       "      <td>43</td>\n",
       "      <td>43</td>\n",
       "      <td>43</td>\n",
       "      <td>43</td>\n",
       "      <td>43</td>\n",
       "      <td>43</td>\n",
       "    </tr>\n",
       "    <tr>\n",
       "      <th>Edgar Degas</th>\n",
       "      <td>42</td>\n",
       "      <td>42</td>\n",
       "      <td>42</td>\n",
       "      <td>42</td>\n",
       "      <td>42</td>\n",
       "      <td>42</td>\n",
       "    </tr>\n",
       "    <tr>\n",
       "      <th>Joyce Kozloff</th>\n",
       "      <td>40</td>\n",
       "      <td>40</td>\n",
       "      <td>40</td>\n",
       "      <td>40</td>\n",
       "      <td>40</td>\n",
       "      <td>40</td>\n",
       "    </tr>\n",
       "    <tr>\n",
       "      <th>Andre-Pierre Arnal</th>\n",
       "      <td>39</td>\n",
       "      <td>39</td>\n",
       "      <td>39</td>\n",
       "      <td>39</td>\n",
       "      <td>39</td>\n",
       "      <td>39</td>\n",
       "    </tr>\n",
       "  </tbody>\n",
       "</table>\n",
       "</div>"
      ],
      "text/plain": [
       "                                      Title  Year  Image URL  Style  Substyle  \\\n",
       "Artist Name                                                                     \n",
       "Byzantine Mosaics                       294   294        294    294       294   \n",
       "Orthodox Icons                          218   218        218    218       218   \n",
       "Kazimir Malevich                        158   158        158    158       158   \n",
       "Ancient Egypt                           109   109        109    109       109   \n",
       "Alfred Freddy Krupa                     103   103        103    103       103   \n",
       "Paul Cezanne                             94    94         94     94        94   \n",
       "Georges Seurat                           91    91         91     91        91   \n",
       "Giorgio de Chirico                       86    86         86     86        86   \n",
       "Ancient Greek Painting and Sculpture     71    71         71     71        71   \n",
       "Fayum portrait                           70    70         70     70        70   \n",
       "Felix Vallotton                          69    69         69     69        69   \n",
       "Louise Bourgeois                         68    68         68     68        68   \n",
       "Caravaggio                               67    67         67     67        67   \n",
       "Ancient Greek Pottery                    67    67         67     67        67   \n",
       "Kent Monkman                             65    65         65     65        65   \n",
       "William Blake                            60    60         60     60        60   \n",
       "Viking art                               60    60         60     60        60   \n",
       "Aztec Art                                60    60         60     60        60   \n",
       "Friedensreich Hundertwasser              60    60         60     60        60   \n",
       "Pavel Filonov                            60    60         60     60        60   \n",
       "Romanesque Architecture                  60    60         60     60        60   \n",
       "Franz Xaver Winterhalter                 59    59         59     59        59   \n",
       "Richard Lindner                          59    59         59     59        59   \n",
       "Nicholas of Verdun                       57    57         57     57        57   \n",
       "Pablo Picasso                            57    57         57     57        57   \n",
       "Andrei Rublev                            56    56         56     56        56   \n",
       "Gerhard Richter                          56    56         56     56        56   \n",
       "Jose Guadalupe Posada                    55    55         55     55        55   \n",
       "Alex Katz                                54    54         54     54        54   \n",
       "Josef Kriehuber                          51    51         51     51        51   \n",
       "Owen Jones                               50    50         50     50        50   \n",
       "Georges Braque                           49    49         49     49        49   \n",
       "Felix Nadar                              49    49         49     49        49   \n",
       "Diego Rivera                             48    48         48     48        48   \n",
       "Theo van Doesburg                        48    48         48     48        48   \n",
       "Jean Baptiste Vanmour                    47    47         47     47        47   \n",
       "Fernand Leger                            47    47         47     47        47   \n",
       "Paul Gauguin                             46    46         46     46        46   \n",
       "Pierre Alechinsky                        46    46         46     46        46   \n",
       "Frank Mason                              46    46         46     46        46   \n",
       "Robert Henri                             46    46         46     46        46   \n",
       "Giotto                                   46    46         46     46        46   \n",
       "Ike no Taiga                             45    45         45     45        45   \n",
       "Miriam Schapiro                          44    44         44     44        44   \n",
       "Nicolas Poussin                          43    43         43     43        43   \n",
       "Wojciech Siudmak                         43    43         43     43        43   \n",
       "Jackson Pollock                          43    43         43     43        43   \n",
       "Edgar Degas                              42    42         42     42        42   \n",
       "Joyce Kozloff                            40    40         40     40        40   \n",
       "Andre-Pierre Arnal                       39    39         39     39        39   \n",
       "\n",
       "                                       ID  \n",
       "Artist Name                                \n",
       "Byzantine Mosaics                     294  \n",
       "Orthodox Icons                        218  \n",
       "Kazimir Malevich                      158  \n",
       "Ancient Egypt                         109  \n",
       "Alfred Freddy Krupa                   103  \n",
       "Paul Cezanne                           94  \n",
       "Georges Seurat                         91  \n",
       "Giorgio de Chirico                     86  \n",
       "Ancient Greek Painting and Sculpture   71  \n",
       "Fayum portrait                         70  \n",
       "Felix Vallotton                        69  \n",
       "Louise Bourgeois                       68  \n",
       "Caravaggio                             67  \n",
       "Ancient Greek Pottery                  67  \n",
       "Kent Monkman                           65  \n",
       "William Blake                          60  \n",
       "Viking art                             60  \n",
       "Aztec Art                              60  \n",
       "Friedensreich Hundertwasser            60  \n",
       "Pavel Filonov                          60  \n",
       "Romanesque Architecture                60  \n",
       "Franz Xaver Winterhalter               59  \n",
       "Richard Lindner                        59  \n",
       "Nicholas of Verdun                     57  \n",
       "Pablo Picasso                          57  \n",
       "Andrei Rublev                          56  \n",
       "Gerhard Richter                        56  \n",
       "Jose Guadalupe Posada                  55  \n",
       "Alex Katz                              54  \n",
       "Josef Kriehuber                        51  \n",
       "Owen Jones                             50  \n",
       "Georges Braque                         49  \n",
       "Felix Nadar                            49  \n",
       "Diego Rivera                           48  \n",
       "Theo van Doesburg                      48  \n",
       "Jean Baptiste Vanmour                  47  \n",
       "Fernand Leger                          47  \n",
       "Paul Gauguin                           46  \n",
       "Pierre Alechinsky                      46  \n",
       "Frank Mason                            46  \n",
       "Robert Henri                           46  \n",
       "Giotto                                 46  \n",
       "Ike no Taiga                           45  \n",
       "Miriam Schapiro                        44  \n",
       "Nicolas Poussin                        43  \n",
       "Wojciech Siudmak                       43  \n",
       "Jackson Pollock                        43  \n",
       "Edgar Degas                            42  \n",
       "Joyce Kozloff                          40  \n",
       "Andre-Pierre Arnal                     39  "
      ]
     },
     "execution_count": 167,
     "metadata": {},
     "output_type": "execute_result"
    }
   ],
   "source": [
    "ArtistName.head(50)"
   ]
  },
  {
   "cell_type": "code",
   "execution_count": 168,
   "metadata": {
    "ExecuteTime": {
     "end_time": "2021-09-19T05:43:54.893794Z",
     "start_time": "2021-09-19T05:43:54.890352Z"
    }
   },
   "outputs": [],
   "source": [
    "url= 'https://www.wikiart.org/en/paintings-by-genre?sortby=1'"
   ]
  },
  {
   "cell_type": "code",
   "execution_count": 169,
   "metadata": {
    "ExecuteTime": {
     "end_time": "2021-09-19T05:43:58.660731Z",
     "start_time": "2021-09-19T05:43:55.173697Z"
    }
   },
   "outputs": [],
   "source": [
    "page = requests.get(url)"
   ]
  },
  {
   "cell_type": "code",
   "execution_count": 170,
   "metadata": {
    "ExecuteTime": {
     "end_time": "2021-09-19T05:43:59.170597Z",
     "start_time": "2021-09-19T05:43:58.663733Z"
    }
   },
   "outputs": [],
   "source": [
    "soup = BeautifulSoup(page.content, 'html.parser')"
   ]
  },
  {
   "cell_type": "code",
   "execution_count": 171,
   "metadata": {
    "ExecuteTime": {
     "end_time": "2021-09-19T05:43:59.197535Z",
     "start_time": "2021-09-19T05:43:59.174256Z"
    }
   },
   "outputs": [],
   "source": [
    "art_type= soup.find_all('li', class_= 'dottedItem')"
   ]
  },
  {
   "cell_type": "code",
   "execution_count": 172,
   "metadata": {
    "ExecuteTime": {
     "end_time": "2021-09-19T05:43:59.351682Z",
     "start_time": "2021-09-19T05:43:59.224150Z"
    }
   },
   "outputs": [],
   "source": [
    "arts=list()\n",
    "numbers=[]\n",
    "n=0\n",
    "\n",
    "for i in art_type:\n",
    "    arts.append(i.text)\n",
    "\n",
    "\n",
    "for i in arts:\n",
    "    arts[n]=arts[n].strip('\\n')\n",
    "    for e in i.split():\n",
    "        if e.isdigit():\n",
    "            numbers.append(int(e))\n",
    "        else:\n",
    "            e = e.capitalize()\n",
    "            arts[n]= e    \n",
    "    n+=1\n",
    "    \n"
   ]
  },
  {
   "cell_type": "code",
   "execution_count": 173,
   "metadata": {
    "ExecuteTime": {
     "end_time": "2021-09-19T05:43:59.476843Z",
     "start_time": "2021-09-19T05:43:59.363579Z"
    }
   },
   "outputs": [],
   "source": [
    "Type_arts=pd.DataFrame({'Art':arts, 'Number of images':numbers})"
   ]
  },
  {
   "cell_type": "code",
   "execution_count": 174,
   "metadata": {
    "ExecuteTime": {
     "end_time": "2021-09-19T05:43:59.794915Z",
     "start_time": "2021-09-19T05:43:59.480363Z"
    }
   },
   "outputs": [],
   "source": [
    "a = Type_arts[Type_arts['Number of images']>7000]"
   ]
  },
  {
   "cell_type": "code",
   "execution_count": 175,
   "metadata": {
    "ExecuteTime": {
     "end_time": "2021-09-19T05:44:01.451838Z",
     "start_time": "2021-09-19T05:43:59.801403Z"
    }
   },
   "outputs": [
    {
     "data": {
      "text/plain": [
       "<AxesSubplot:xlabel='Number of images', ylabel='Art'>"
      ]
     },
     "execution_count": 175,
     "metadata": {},
     "output_type": "execute_result"
    },
    {
     "data": {
      "image/png": "[encoded data removed]",
      "text/plain": [
       "<Figure size 432x288 with 1 Axes>"
      ]
     },
     "metadata": {
      "needs_background": "light"
     },
     "output_type": "display_data"
    }
   ],
   "source": [
    "sns.barplot(data=a, y='Art', x='Number of images')"
   ]
  },
  {
   "cell_type": "code",
   "execution_count": 176,
   "metadata": {
    "ExecuteTime": {
     "end_time": "2021-09-19T05:44:01.621138Z",
     "start_time": "2021-09-19T05:44:01.605085Z"
    }
   },
   "outputs": [
    {
     "data": {
      "text/html": [
       "<div>\n",
       "<style scoped>\n",
       "    .dataframe tbody tr th:only-of-type {\n",
       "        vertical-align: middle;\n",
       "    }\n",
       "\n",
       "    .dataframe tbody tr th {\n",
       "        vertical-align: top;\n",
       "    }\n",
       "\n",
       "    .dataframe thead th {\n",
       "        text-align: right;\n",
       "    }\n",
       "</style>\n",
       "<table border=\"1\" class=\"dataframe\">\n",
       "  <thead>\n",
       "    <tr style=\"text-align: right;\">\n",
       "      <th></th>\n",
       "      <th>Art</th>\n",
       "      <th>Number of images</th>\n",
       "    </tr>\n",
       "  </thead>\n",
       "  <tbody>\n",
       "    <tr>\n",
       "      <th>0</th>\n",
       "      <td>Portrait</td>\n",
       "      <td>27177</td>\n",
       "    </tr>\n",
       "    <tr>\n",
       "      <th>1</th>\n",
       "      <td>Landscape</td>\n",
       "      <td>23193</td>\n",
       "    </tr>\n",
       "    <tr>\n",
       "      <th>2</th>\n",
       "      <td>Painting</td>\n",
       "      <td>22637</td>\n",
       "    </tr>\n",
       "    <tr>\n",
       "      <th>3</th>\n",
       "      <td>Abstract</td>\n",
       "      <td>17028</td>\n",
       "    </tr>\n",
       "    <tr>\n",
       "      <th>4</th>\n",
       "      <td>Painting</td>\n",
       "      <td>11485</td>\n",
       "    </tr>\n",
       "    <tr>\n",
       "      <th>5</th>\n",
       "      <td>Cityscape</td>\n",
       "      <td>8668</td>\n",
       "    </tr>\n",
       "    <tr>\n",
       "      <th>6</th>\n",
       "      <td>Figurative</td>\n",
       "      <td>7763</td>\n",
       "    </tr>\n",
       "    <tr>\n",
       "      <th>7</th>\n",
       "      <td>Study</td>\n",
       "      <td>6972</td>\n",
       "    </tr>\n",
       "    <tr>\n",
       "      <th>8</th>\n",
       "      <td>Illustration</td>\n",
       "      <td>6363</td>\n",
       "    </tr>\n",
       "    <tr>\n",
       "      <th>9</th>\n",
       "      <td>Life</td>\n",
       "      <td>4610</td>\n",
       "    </tr>\n",
       "    <tr>\n",
       "      <th>10</th>\n",
       "      <td>(nu)</td>\n",
       "      <td>4415</td>\n",
       "    </tr>\n",
       "    <tr>\n",
       "      <th>11</th>\n",
       "      <td>Painting</td>\n",
       "      <td>4350</td>\n",
       "    </tr>\n",
       "    <tr>\n",
       "      <th>12</th>\n",
       "      <td>Sculpture</td>\n",
       "      <td>4126</td>\n",
       "    </tr>\n",
       "    <tr>\n",
       "      <th>13</th>\n",
       "      <td>Design</td>\n",
       "      <td>3684</td>\n",
       "    </tr>\n",
       "    <tr>\n",
       "      <th>14</th>\n",
       "      <td>Marina</td>\n",
       "      <td>3185</td>\n",
       "    </tr>\n",
       "    <tr>\n",
       "      <th>15</th>\n",
       "      <td>Painting</td>\n",
       "      <td>3095</td>\n",
       "    </tr>\n",
       "    <tr>\n",
       "      <th>16</th>\n",
       "      <td>Photo</td>\n",
       "      <td>2887</td>\n",
       "    </tr>\n",
       "    <tr>\n",
       "      <th>17</th>\n",
       "      <td>Painting</td>\n",
       "      <td>2773</td>\n",
       "    </tr>\n",
       "    <tr>\n",
       "      <th>18</th>\n",
       "      <td>Self-portrait</td>\n",
       "      <td>2547</td>\n",
       "    </tr>\n",
       "    <tr>\n",
       "      <th>19</th>\n",
       "      <td>Installation</td>\n",
       "      <td>2489</td>\n",
       "    </tr>\n",
       "  </tbody>\n",
       "</table>\n",
       "</div>"
      ],
      "text/plain": [
       "              Art  Number of images\n",
       "0        Portrait             27177\n",
       "1       Landscape             23193\n",
       "2        Painting             22637\n",
       "3        Abstract             17028\n",
       "4        Painting             11485\n",
       "5       Cityscape              8668\n",
       "6      Figurative              7763\n",
       "7           Study              6972\n",
       "8    Illustration              6363\n",
       "9            Life              4610\n",
       "10           (nu)              4415\n",
       "11       Painting              4350\n",
       "12      Sculpture              4126\n",
       "13         Design              3684\n",
       "14         Marina              3185\n",
       "15       Painting              3095\n",
       "16          Photo              2887\n",
       "17       Painting              2773\n",
       "18  Self-portrait              2547\n",
       "19   Installation              2489"
      ]
     },
     "execution_count": 176,
     "metadata": {},
     "output_type": "execute_result"
    }
   ],
   "source": [
    "Type_arts.head(20)"
   ]
  },
  {
   "cell_type": "markdown",
   "metadata": {},
   "source": [
    "### Estilos y subestilos"
   ]
  },
  {
   "cell_type": "code",
   "execution_count": 177,
   "metadata": {
    "ExecuteTime": {
     "end_time": "2021-09-19T05:44:08.467281Z",
     "start_time": "2021-09-19T05:44:08.231316Z"
    }
   },
   "outputs": [
    {
     "data": {
      "text/html": [
       "<div>\n",
       "<style scoped>\n",
       "    .dataframe tbody tr th:only-of-type {\n",
       "        vertical-align: middle;\n",
       "    }\n",
       "\n",
       "    .dataframe tbody tr th {\n",
       "        vertical-align: top;\n",
       "    }\n",
       "\n",
       "    .dataframe thead th {\n",
       "        text-align: right;\n",
       "    }\n",
       "</style>\n",
       "<table border=\"1\" class=\"dataframe\">\n",
       "  <thead>\n",
       "    <tr style=\"text-align: right;\">\n",
       "      <th></th>\n",
       "      <th>Image URL</th>\n",
       "    </tr>\n",
       "    <tr>\n",
       "      <th>Style</th>\n",
       "      <th></th>\n",
       "    </tr>\n",
       "  </thead>\n",
       "  <tbody>\n",
       "    <tr>\n",
       "      <th>Modern Art</th>\n",
       "      <td>4806</td>\n",
       "    </tr>\n",
       "    <tr>\n",
       "      <th>Contemporary Art</th>\n",
       "      <td>1815</td>\n",
       "    </tr>\n",
       "    <tr>\n",
       "      <th>Western Medieval Art</th>\n",
       "      <td>984</td>\n",
       "    </tr>\n",
       "    <tr>\n",
       "      <th>Western Post Renaissance Art</th>\n",
       "      <td>781</td>\n",
       "    </tr>\n",
       "    <tr>\n",
       "      <th>Japanese Art</th>\n",
       "      <td>479</td>\n",
       "    </tr>\n",
       "    <tr>\n",
       "      <th>Western Renaissance Art</th>\n",
       "      <td>330</td>\n",
       "    </tr>\n",
       "    <tr>\n",
       "      <th>Islamic Art</th>\n",
       "      <td>231</td>\n",
       "    </tr>\n",
       "    <tr>\n",
       "      <th>Ancient Greek Art</th>\n",
       "      <td>172</td>\n",
       "    </tr>\n",
       "    <tr>\n",
       "      <th>Dictionaries with no category</th>\n",
       "      <td>137</td>\n",
       "    </tr>\n",
       "    <tr>\n",
       "      <th>Native Art</th>\n",
       "      <td>112</td>\n",
       "    </tr>\n",
       "    <tr>\n",
       "      <th>Ancient Egyptian Art</th>\n",
       "      <td>109</td>\n",
       "    </tr>\n",
       "    <tr>\n",
       "      <th>Chinese Art</th>\n",
       "      <td>95</td>\n",
       "    </tr>\n",
       "    <tr>\n",
       "      <th>Pre-Columbian Art</th>\n",
       "      <td>60</td>\n",
       "    </tr>\n",
       "    <tr>\n",
       "      <th>Korean Art</th>\n",
       "      <td>33</td>\n",
       "    </tr>\n",
       "  </tbody>\n",
       "</table>\n",
       "</div>"
      ],
      "text/plain": [
       "                               Image URL\n",
       "Style                                   \n",
       "Modern Art                          4806\n",
       "Contemporary Art                    1815\n",
       "Western Medieval Art                 984\n",
       "Western Post Renaissance Art         781\n",
       "Japanese Art                         479\n",
       "Western Renaissance Art              330\n",
       "Islamic Art                          231\n",
       "Ancient Greek Art                    172\n",
       "Dictionaries with no category        137\n",
       "Native Art                           112\n",
       "Ancient Egyptian Art                 109\n",
       "Chinese Art                           95\n",
       "Pre-Columbian Art                     60\n",
       "Korean Art                            33"
      ]
     },
     "execution_count": 177,
     "metadata": {},
     "output_type": "execute_result"
    }
   ],
   "source": [
    "Art[[\"Style\",\"Image URL\"]].groupby([\"Style\"]).agg({\"Image URL\":\"count\"}).sort_values(by=\"Image URL\",ascending=False)"
   ]
  },
  {
   "cell_type": "code",
   "execution_count": 178,
   "metadata": {
    "ExecuteTime": {
     "end_time": "2021-09-19T05:44:10.004426Z",
     "start_time": "2021-09-19T05:44:09.647749Z"
    }
   },
   "outputs": [
    {
     "data": {
      "text/html": [
       "<div>\n",
       "<style scoped>\n",
       "    .dataframe tbody tr th:only-of-type {\n",
       "        vertical-align: middle;\n",
       "    }\n",
       "\n",
       "    .dataframe tbody tr th {\n",
       "        vertical-align: top;\n",
       "    }\n",
       "\n",
       "    .dataframe thead th {\n",
       "        text-align: right;\n",
       "    }\n",
       "</style>\n",
       "<table border=\"1\" class=\"dataframe\">\n",
       "  <thead>\n",
       "    <tr style=\"text-align: right;\">\n",
       "      <th></th>\n",
       "      <th></th>\n",
       "      <th>Image URL</th>\n",
       "    </tr>\n",
       "    <tr>\n",
       "      <th>Style</th>\n",
       "      <th>Substyle</th>\n",
       "      <th></th>\n",
       "    </tr>\n",
       "  </thead>\n",
       "  <tbody>\n",
       "    <tr>\n",
       "      <th>Modern Art</th>\n",
       "      <th>Kinetic Art</th>\n",
       "      <td>60</td>\n",
       "    </tr>\n",
       "    <tr>\n",
       "      <th>Western Medieval Art</th>\n",
       "      <th>Late Byzantine/Palaeologan Renaissance (c. 1261–1453)</th>\n",
       "      <td>60</td>\n",
       "    </tr>\n",
       "    <tr>\n",
       "      <th rowspan=\"3\" valign=\"top\">Modern Art</th>\n",
       "      <th>Figurative Expressionism</th>\n",
       "      <td>60</td>\n",
       "    </tr>\n",
       "    <tr>\n",
       "      <th>Futurism</th>\n",
       "      <td>60</td>\n",
       "    </tr>\n",
       "    <tr>\n",
       "      <th>Hard Edge Painting</th>\n",
       "      <td>60</td>\n",
       "    </tr>\n",
       "    <tr>\n",
       "      <th>...</th>\n",
       "      <th>...</th>\n",
       "      <td>...</td>\n",
       "    </tr>\n",
       "    <tr>\n",
       "      <th>Western Medieval Art</th>\n",
       "      <th>Early Christian</th>\n",
       "      <td>1</td>\n",
       "    </tr>\n",
       "    <tr>\n",
       "      <th>Contemporary Art</th>\n",
       "      <th>Graffiti Art</th>\n",
       "      <td>1</td>\n",
       "    </tr>\n",
       "    <tr>\n",
       "      <th>Western Post Renaissance Art</th>\n",
       "      <th>Stroganov school of icon painting</th>\n",
       "      <td>1</td>\n",
       "    </tr>\n",
       "    <tr>\n",
       "      <th rowspan=\"2\" valign=\"top\">Ancient Egyptian Art</th>\n",
       "      <th>Old Kingdom</th>\n",
       "      <td>1</td>\n",
       "    </tr>\n",
       "    <tr>\n",
       "      <th>2nd Intermediate Period</th>\n",
       "      <td>1</td>\n",
       "    </tr>\n",
       "  </tbody>\n",
       "</table>\n",
       "<p>217 rows × 1 columns</p>\n",
       "</div>"
      ],
      "text/plain": [
       "                                                                                 Image URL\n",
       "Style                        Substyle                                                     \n",
       "Modern Art                   Kinetic Art                                                60\n",
       "Western Medieval Art         Late Byzantine/Palaeologan Renaissance (c. 1261...         60\n",
       "Modern Art                   Figurative Expressionism                                   60\n",
       "                             Futurism                                                   60\n",
       "                             Hard Edge Painting                                         60\n",
       "...                                                                                    ...\n",
       "Western Medieval Art         Early Christian                                             1\n",
       "Contemporary Art             Graffiti Art                                                1\n",
       "Western Post Renaissance Art Stroganov school of icon painting                           1\n",
       "Ancient Egyptian Art         Old Kingdom                                                 1\n",
       "                             2nd Intermediate Period                                     1\n",
       "\n",
       "[217 rows x 1 columns]"
      ]
     },
     "execution_count": 178,
     "metadata": {},
     "output_type": "execute_result"
    }
   ],
   "source": [
    "Art[[\"Style\",\"Substyle\",\"Image URL\"]].groupby([\"Style\",\"Substyle\"]).agg({\"Image URL\":\"count\"}).sort_values(by=\"Image URL\",ascending=False)"
   ]
  },
  {
   "cell_type": "code",
   "execution_count": 179,
   "metadata": {
    "ExecuteTime": {
     "end_time": "2021-09-19T05:44:11.482941Z",
     "start_time": "2021-09-19T05:44:11.153503Z"
    }
   },
   "outputs": [
    {
     "data": {
      "text/html": [
       "<div>\n",
       "<style scoped>\n",
       "    .dataframe tbody tr th:only-of-type {\n",
       "        vertical-align: middle;\n",
       "    }\n",
       "\n",
       "    .dataframe tbody tr th {\n",
       "        vertical-align: top;\n",
       "    }\n",
       "\n",
       "    .dataframe thead th {\n",
       "        text-align: right;\n",
       "    }\n",
       "</style>\n",
       "<table border=\"1\" class=\"dataframe\">\n",
       "  <thead>\n",
       "    <tr style=\"text-align: right;\">\n",
       "      <th></th>\n",
       "      <th>Substyle</th>\n",
       "      <th>Image URL</th>\n",
       "    </tr>\n",
       "    <tr>\n",
       "      <th>Style</th>\n",
       "      <th></th>\n",
       "      <th></th>\n",
       "    </tr>\n",
       "  </thead>\n",
       "  <tbody>\n",
       "    <tr>\n",
       "      <th>Modern Art</th>\n",
       "      <td>91</td>\n",
       "      <td>4806</td>\n",
       "    </tr>\n",
       "    <tr>\n",
       "      <th>Contemporary Art</th>\n",
       "      <td>38</td>\n",
       "      <td>1815</td>\n",
       "    </tr>\n",
       "    <tr>\n",
       "      <th>Western Medieval Art</th>\n",
       "      <td>28</td>\n",
       "      <td>984</td>\n",
       "    </tr>\n",
       "    <tr>\n",
       "      <th>Western Post Renaissance Art</th>\n",
       "      <td>14</td>\n",
       "      <td>781</td>\n",
       "    </tr>\n",
       "    <tr>\n",
       "      <th>Japanese Art</th>\n",
       "      <td>10</td>\n",
       "      <td>479</td>\n",
       "    </tr>\n",
       "    <tr>\n",
       "      <th>Ancient Egyptian Art</th>\n",
       "      <td>9</td>\n",
       "      <td>109</td>\n",
       "    </tr>\n",
       "    <tr>\n",
       "      <th>Islamic Art</th>\n",
       "      <td>7</td>\n",
       "      <td>231</td>\n",
       "    </tr>\n",
       "    <tr>\n",
       "      <th>Western Renaissance Art</th>\n",
       "      <td>6</td>\n",
       "      <td>330</td>\n",
       "    </tr>\n",
       "    <tr>\n",
       "      <th>Ancient Greek Art</th>\n",
       "      <td>4</td>\n",
       "      <td>172</td>\n",
       "    </tr>\n",
       "    <tr>\n",
       "      <th>Dictionaries with no category</th>\n",
       "      <td>3</td>\n",
       "      <td>137</td>\n",
       "    </tr>\n",
       "    <tr>\n",
       "      <th>Native Art</th>\n",
       "      <td>3</td>\n",
       "      <td>112</td>\n",
       "    </tr>\n",
       "    <tr>\n",
       "      <th>Chinese Art</th>\n",
       "      <td>2</td>\n",
       "      <td>95</td>\n",
       "    </tr>\n",
       "    <tr>\n",
       "      <th>Korean Art</th>\n",
       "      <td>1</td>\n",
       "      <td>33</td>\n",
       "    </tr>\n",
       "    <tr>\n",
       "      <th>Pre-Columbian Art</th>\n",
       "      <td>1</td>\n",
       "      <td>60</td>\n",
       "    </tr>\n",
       "  </tbody>\n",
       "</table>\n",
       "</div>"
      ],
      "text/plain": [
       "                               Substyle  Image URL\n",
       "Style                                             \n",
       "Modern Art                           91       4806\n",
       "Contemporary Art                     38       1815\n",
       "Western Medieval Art                 28        984\n",
       "Western Post Renaissance Art         14        781\n",
       "Japanese Art                         10        479\n",
       "Ancient Egyptian Art                  9        109\n",
       "Islamic Art                           7        231\n",
       "Western Renaissance Art               6        330\n",
       "Ancient Greek Art                     4        172\n",
       "Dictionaries with no category         3        137\n",
       "Native Art                            3        112\n",
       "Chinese Art                           2         95\n",
       "Korean Art                            1         33\n",
       "Pre-Columbian Art                     1         60"
      ]
     },
     "execution_count": 179,
     "metadata": {},
     "output_type": "execute_result"
    }
   ],
   "source": [
    "tabla1=Art[[\"Style\",\"Substyle\",\"Image URL\"]].groupby([\"Style\",\"Substyle\"]).agg({\"Image URL\":\"count\"}).reset_index()\n",
    "tabla2=tabla1[[\"Style\",\"Substyle\",\"Image URL\"]].groupby([\"Style\"]).agg({\"Substyle\":\"count\",\"Image URL\":\"sum\"}).sort_values(by=\"Substyle\",ascending=False)\n",
    "tabla2"
   ]
  },
  {
   "cell_type": "code",
   "execution_count": 40,
   "metadata": {
    "ExecuteTime": {
     "end_time": "2021-09-19T06:52:35.017949Z",
     "start_time": "2021-09-19T06:52:34.795674Z"
    }
   },
   "outputs": [
    {
     "data": {
      "text/html": [
       "<div>\n",
       "<style scoped>\n",
       "    .dataframe tbody tr th:only-of-type {\n",
       "        vertical-align: middle;\n",
       "    }\n",
       "\n",
       "    .dataframe tbody tr th {\n",
       "        vertical-align: top;\n",
       "    }\n",
       "\n",
       "    .dataframe thead th {\n",
       "        text-align: right;\n",
       "    }\n",
       "</style>\n",
       "<table border=\"1\" class=\"dataframe\">\n",
       "  <thead>\n",
       "    <tr style=\"text-align: right;\">\n",
       "      <th></th>\n",
       "      <th>Title</th>\n",
       "      <th>Artist Name</th>\n",
       "      <th>Year</th>\n",
       "      <th>Image URL</th>\n",
       "      <th>Style</th>\n",
       "      <th>Substyle</th>\n",
       "      <th>ID</th>\n",
       "    </tr>\n",
       "  </thead>\n",
       "  <tbody>\n",
       "    <tr>\n",
       "      <th>0</th>\n",
       "      <td>Crevole Madonna</td>\n",
       "      <td>Duccio</td>\n",
       "      <td>1280</td>\n",
       "      <td>https://uploads1.wikiart.org/images/duccio/cre...</td>\n",
       "      <td>Western Renaissance Art</td>\n",
       "      <td>Proto Renaissance</td>\n",
       "      <td>5772793eedc2cb3880da9b0c</td>\n",
       "    </tr>\n",
       "    <tr>\n",
       "      <th>1</th>\n",
       "      <td>Madonna and Child (no. 593)</td>\n",
       "      <td>Duccio</td>\n",
       "      <td>1280</td>\n",
       "      <td>https://uploads1.wikiart.org/images/duccio/mad...</td>\n",
       "      <td>Western Renaissance Art</td>\n",
       "      <td>Proto Renaissance</td>\n",
       "      <td>5772793fedc2cb3880da9ccc</td>\n",
       "    </tr>\n",
       "    <tr>\n",
       "      <th>2</th>\n",
       "      <td>Maest&amp;#224;</td>\n",
       "      <td>Duccio</td>\n",
       "      <td>1280</td>\n",
       "      <td>https://uploads1.wikiart.org/images/duccio/mae...</td>\n",
       "      <td>Western Renaissance Art</td>\n",
       "      <td>Proto Renaissance</td>\n",
       "      <td>57727940edc2cb3880da9e8c</td>\n",
       "    </tr>\n",
       "    <tr>\n",
       "      <th>3</th>\n",
       "      <td>Madonna and Child</td>\n",
       "      <td>Duccio</td>\n",
       "      <td>1281</td>\n",
       "      <td>https://uploads3.wikiart.org/images/duccio/mad...</td>\n",
       "      <td>Western Renaissance Art</td>\n",
       "      <td>Proto Renaissance</td>\n",
       "      <td>5772793fedc2cb3880da9c8c</td>\n",
       "    </tr>\n",
       "    <tr>\n",
       "      <th>4</th>\n",
       "      <td>Madonna of Crevole</td>\n",
       "      <td>Duccio</td>\n",
       "      <td>1283-1284</td>\n",
       "      <td>https://uploads0.wikiart.org/images/duccio/mad...</td>\n",
       "      <td>Western Renaissance Art</td>\n",
       "      <td>Proto Renaissance</td>\n",
       "      <td>57727940edc2cb3880da9e4c</td>\n",
       "    </tr>\n",
       "    <tr>\n",
       "      <th>...</th>\n",
       "      <td>...</td>\n",
       "      <td>...</td>\n",
       "      <td>...</td>\n",
       "      <td>...</td>\n",
       "      <td>...</td>\n",
       "      <td>...</td>\n",
       "      <td>...</td>\n",
       "    </tr>\n",
       "    <tr>\n",
       "      <th>325</th>\n",
       "      <td>Ascension</td>\n",
       "      <td>Kmetty J&amp;#225;nos</td>\n",
       "      <td>1913</td>\n",
       "      <td>https://uploads2.wikiart.org/00159/images/kmet...</td>\n",
       "      <td>Western Renaissance Art</td>\n",
       "      <td>Renaissance</td>\n",
       "      <td>5a12301cedc2c968dc9bee0e</td>\n",
       "    </tr>\n",
       "    <tr>\n",
       "      <th>326</th>\n",
       "      <td>Kosenbi</td>\n",
       "      <td>Fujishima Takeji</td>\n",
       "      <td>1927</td>\n",
       "      <td>https://uploads1.wikiart.org/00290/images/fuji...</td>\n",
       "      <td>Western Renaissance Art</td>\n",
       "      <td>Renaissance</td>\n",
       "      <td>5ec915fbedc2c9e1a456efc9</td>\n",
       "    </tr>\n",
       "    <tr>\n",
       "      <th>327</th>\n",
       "      <td>Portrait of Perugino, After Raphael</td>\n",
       "      <td>Fujishima Takeji</td>\n",
       "      <td>XIX-XX cent.</td>\n",
       "      <td>https://uploads6.wikiart.org/00290/images/fuji...</td>\n",
       "      <td>Western Renaissance Art</td>\n",
       "      <td>Renaissance</td>\n",
       "      <td>5ec91628edc2c9e1a45826cf</td>\n",
       "    </tr>\n",
       "    <tr>\n",
       "      <th>328</th>\n",
       "      <td>Profile of a Woman</td>\n",
       "      <td>Fujishima Takeji</td>\n",
       "      <td>XIX-XX cent.</td>\n",
       "      <td>https://uploads4.wikiart.org/00290/images/fuji...</td>\n",
       "      <td>Western Renaissance Art</td>\n",
       "      <td>Renaissance</td>\n",
       "      <td>5ec9162aedc2c9e1a458327a</td>\n",
       "    </tr>\n",
       "    <tr>\n",
       "      <th>329</th>\n",
       "      <td>Renesansni Portret</td>\n",
       "      <td>Leonid Šejka</td>\n",
       "      <td>1953</td>\n",
       "      <td>https://uploads6.wikiart.org/00299/images/leon...</td>\n",
       "      <td>Western Renaissance Art</td>\n",
       "      <td>Renaissance</td>\n",
       "      <td>5f1c74e4edc2c9b7fce68dbd</td>\n",
       "    </tr>\n",
       "  </tbody>\n",
       "</table>\n",
       "<p>330 rows × 7 columns</p>\n",
       "</div>"
      ],
      "text/plain": [
       "                                   Title        Artist Name          Year  \\\n",
       "0                        Crevole Madonna             Duccio          1280   \n",
       "1            Madonna and Child (no. 593)             Duccio          1280   \n",
       "2                            Maest&#224;             Duccio          1280   \n",
       "3                      Madonna and Child             Duccio          1281   \n",
       "4                     Madonna of Crevole             Duccio     1283-1284   \n",
       "..                                   ...                ...           ...   \n",
       "325                            Ascension  Kmetty J&#225;nos          1913   \n",
       "326                              Kosenbi   Fujishima Takeji          1927   \n",
       "327  Portrait of Perugino, After Raphael   Fujishima Takeji  XIX-XX cent.   \n",
       "328                   Profile of a Woman   Fujishima Takeji  XIX-XX cent.   \n",
       "329                   Renesansni Portret       Leonid Šejka          1953   \n",
       "\n",
       "                                             Image URL  \\\n",
       "0    https://uploads1.wikiart.org/images/duccio/cre...   \n",
       "1    https://uploads1.wikiart.org/images/duccio/mad...   \n",
       "2    https://uploads1.wikiart.org/images/duccio/mae...   \n",
       "3    https://uploads3.wikiart.org/images/duccio/mad...   \n",
       "4    https://uploads0.wikiart.org/images/duccio/mad...   \n",
       "..                                                 ...   \n",
       "325  https://uploads2.wikiart.org/00159/images/kmet...   \n",
       "326  https://uploads1.wikiart.org/00290/images/fuji...   \n",
       "327  https://uploads6.wikiart.org/00290/images/fuji...   \n",
       "328  https://uploads4.wikiart.org/00290/images/fuji...   \n",
       "329  https://uploads6.wikiart.org/00299/images/leon...   \n",
       "\n",
       "                       Style           Substyle                        ID  \n",
       "0    Western Renaissance Art  Proto Renaissance  5772793eedc2cb3880da9b0c  \n",
       "1    Western Renaissance Art  Proto Renaissance  5772793fedc2cb3880da9ccc  \n",
       "2    Western Renaissance Art  Proto Renaissance  57727940edc2cb3880da9e8c  \n",
       "3    Western Renaissance Art  Proto Renaissance  5772793fedc2cb3880da9c8c  \n",
       "4    Western Renaissance Art  Proto Renaissance  57727940edc2cb3880da9e4c  \n",
       "..                       ...                ...                       ...  \n",
       "325  Western Renaissance Art        Renaissance  5a12301cedc2c968dc9bee0e  \n",
       "326  Western Renaissance Art        Renaissance  5ec915fbedc2c9e1a456efc9  \n",
       "327  Western Renaissance Art        Renaissance  5ec91628edc2c9e1a45826cf  \n",
       "328  Western Renaissance Art        Renaissance  5ec9162aedc2c9e1a458327a  \n",
       "329  Western Renaissance Art        Renaissance  5f1c74e4edc2c9b7fce68dbd  \n",
       "\n",
       "[330 rows x 7 columns]"
      ]
     },
     "execution_count": 40,
     "metadata": {},
     "output_type": "execute_result"
    }
   ],
   "source": [
    "muestra=Art[Art[\"Style\"]==\"Western Renaissance Art\"].reset_index(drop=True)\n",
    "muestra"
   ]
  },
  {
   "cell_type": "code",
   "execution_count": 181,
   "metadata": {
    "ExecuteTime": {
     "end_time": "2021-09-19T05:44:22.322192Z",
     "start_time": "2021-09-19T05:44:22.316186Z"
    }
   },
   "outputs": [],
   "source": [
    "#for i in diccionario_wikiarts:\n",
    "#    imagenes=i[\"Paintings\"]\n",
    "#    for j in  imagenes:\n",
    "#        imagen=j[\"image\"]\n",
    "#        id_=j[\"id\"]\n",
    "#        obtener = requests.get(imagen,stream=True)\n",
    "#        with open(\"/home/uriel/itam/semestre1/mineria_y_analisis_de_datos/wikiart/\" + id_ +\".jpg\", 'wb') as imagen:\n",
    "#            imagen.write(obtener.content)"
   ]
  },
  {
   "cell_type": "code",
   "execution_count": 182,
   "metadata": {
    "ExecuteTime": {
     "end_time": "2021-09-19T06:00:12.903916Z",
     "start_time": "2021-09-19T05:45:33.101429Z"
    }
   },
   "outputs": [],
   "source": [
    "for j in  range(muestra.shape[0]):\n",
    "    imagen=muestra[\"Image URL\"][j]\n",
    "    id_=muestra[\"ID\"][j]\n",
    "    obtener = requests.get(imagen,stream=True)\n",
    "    with open(path+\"images/\" + id_ +\".jpg\", 'wb') as imagen:\n",
    "        imagen.write(obtener.content)"
   ]
  },
  {
   "cell_type": "markdown",
   "metadata": {},
   "source": [
    "### Lectura de imágenes"
   ]
  },
  {
   "cell_type": "code",
   "execution_count": 4,
   "metadata": {
    "ExecuteTime": {
     "end_time": "2021-09-19T06:39:22.745133Z",
     "start_time": "2021-09-19T06:39:22.457128Z"
    }
   },
   "outputs": [],
   "source": [
    "image_names = glob.glob(path+'images/*.jpg')"
   ]
  },
  {
   "cell_type": "code",
   "execution_count": 184,
   "metadata": {
    "ExecuteTime": {
     "end_time": "2021-09-19T06:00:42.660504Z",
     "start_time": "2021-09-19T06:00:42.649444Z"
    }
   },
   "outputs": [
    {
     "data": {
      "text/plain": [
       "330"
      ]
     },
     "execution_count": 184,
     "metadata": {},
     "output_type": "execute_result"
    }
   ],
   "source": [
    "len(image_names)"
   ]
  },
  {
   "cell_type": "code",
   "execution_count": 185,
   "metadata": {
    "ExecuteTime": {
     "end_time": "2021-09-19T06:07:19.310684Z",
     "start_time": "2021-09-19T06:00:49.151607Z"
    }
   },
   "outputs": [],
   "source": [
    "X =  [resize(imread(img_name,as_gray='True'), (128, 128)) for img_name in image_names]"
   ]
  },
  {
   "cell_type": "code",
   "execution_count": 193,
   "metadata": {
    "ExecuteTime": {
     "end_time": "2021-09-19T06:07:58.825777Z",
     "start_time": "2021-09-19T06:07:58.591929Z"
    }
   },
   "outputs": [],
   "source": [
    "X=np.array(X)"
   ]
  },
  {
   "cell_type": "code",
   "execution_count": 58,
   "metadata": {
    "ExecuteTime": {
     "end_time": "2021-09-19T07:04:35.763123Z",
     "start_time": "2021-09-19T07:04:35.751674Z"
    }
   },
   "outputs": [
    {
     "data": {
      "text/plain": [
       "(330, 128, 128)"
      ]
     },
     "execution_count": 58,
     "metadata": {},
     "output_type": "execute_result"
    }
   ],
   "source": [
    "X.shape"
   ]
  },
  {
   "cell_type": "code",
   "execution_count": 59,
   "metadata": {
    "ExecuteTime": {
     "end_time": "2021-09-19T07:04:39.455337Z",
     "start_time": "2021-09-19T07:04:39.277096Z"
    }
   },
   "outputs": [
    {
     "data": {
      "image/png": "[encoded data removed]",
      "text/plain": [
       "<Figure size 432x288 with 1 Axes>"
      ]
     },
     "metadata": {
      "needs_background": "light"
     },
     "output_type": "display_data"
    },
    {
     "name": "stdout",
     "output_type": "stream",
     "text": [
      "(128, 128)\n"
     ]
    }
   ],
   "source": [
    "i=2\n",
    "plt.imshow(X[i])\n",
    "plt.axis('off')\n",
    "plt.show()\n",
    "print(X[i].shape)"
   ]
  },
  {
   "cell_type": "markdown",
   "metadata": {
    "ExecuteTime": {
     "end_time": "2021-09-19T05:22:53.815429Z",
     "start_time": "2021-09-19T05:22:53.803067Z"
    }
   },
   "source": [
    "### Variables a utilizar"
   ]
  },
  {
   "cell_type": "markdown",
   "metadata": {},
   "source": [
    "#### Sin ninguna transformación"
   ]
  },
  {
   "cell_type": "code",
   "execution_count": 63,
   "metadata": {
    "ExecuteTime": {
     "end_time": "2021-09-19T07:06:34.840446Z",
     "start_time": "2021-09-19T07:06:34.828054Z"
    }
   },
   "outputs": [
    {
     "data": {
      "text/plain": [
       "(330, 16384)"
      ]
     },
     "execution_count": 63,
     "metadata": {},
     "output_type": "execute_result"
    }
   ],
   "source": [
    "X1 = X.reshape((330,-1))\n",
    "X1.shape"
   ]
  },
  {
   "cell_type": "code",
   "execution_count": 65,
   "metadata": {
    "ExecuteTime": {
     "end_time": "2021-09-19T07:06:41.437698Z",
     "start_time": "2021-09-19T07:06:41.203936Z"
    }
   },
   "outputs": [
    {
     "name": "stdout",
     "output_type": "stream",
     "text": [
      "Las 20 variables con mayor varianza son:\n"
     ]
    },
    {
     "data": {
      "text/plain": [
       "Int64Index([ 896, 1024,  768,   28,  114,  115,  640,   26,  113, 1408,  116,\n",
       "             130,   29,  128,   27,   25,  131, 1280, 1152,   10],\n",
       "           dtype='int64')"
      ]
     },
     "execution_count": 65,
     "metadata": {},
     "output_type": "execute_result"
    }
   ],
   "source": [
    "print(\"Las 20 variables con mayor varianza son:\")\n",
    "pd.DataFrame(pd.DataFrame(X1).var()).rename(columns={0:\"variable\"}).sort_values(by=[\"variable\"],ascending=False).head(20).index"
   ]
  },
  {
   "cell_type": "code",
   "execution_count": 41,
   "metadata": {
    "ExecuteTime": {
     "end_time": "2021-09-19T06:53:15.378207Z",
     "start_time": "2021-09-19T06:53:15.369677Z"
    }
   },
   "outputs": [],
   "source": [
    "nombres=[x.split(\"/\")[-1][:-4] for x in image_names]"
   ]
  },
  {
   "cell_type": "code",
   "execution_count": 42,
   "metadata": {
    "ExecuteTime": {
     "end_time": "2021-09-19T06:53:18.310338Z",
     "start_time": "2021-09-19T06:53:17.973945Z"
    }
   },
   "outputs": [],
   "source": [
    "tabla1=pd.DataFrame(nombres).rename(columns={0:\"id\"}).merge(muestra,left_on=\"id\",right_on=\"ID\",how=\"left\")"
   ]
  },
  {
   "cell_type": "code",
   "execution_count": 46,
   "metadata": {
    "ExecuteTime": {
     "end_time": "2021-09-19T06:54:37.020722Z",
     "start_time": "2021-09-19T06:54:37.004547Z"
    }
   },
   "outputs": [
    {
     "data": {
      "text/plain": [
       "Proto Renaissance               60\n",
       "Northern Renaissance            60\n",
       "High Renaissance                60\n",
       "Early Renaissance               60\n",
       "Mannerism (Late Renaissance)    60\n",
       "Renaissance                     30\n",
       "Name: Substyle, dtype: int64"
      ]
     },
     "execution_count": 46,
     "metadata": {},
     "output_type": "execute_result"
    }
   ],
   "source": [
    "tabla1[\"Substyle\"].value_counts()"
   ]
  },
  {
   "cell_type": "code",
   "execution_count": 66,
   "metadata": {
    "ExecuteTime": {
     "end_time": "2021-09-19T07:06:47.403028Z",
     "start_time": "2021-09-19T07:06:46.941007Z"
    }
   },
   "outputs": [
    {
     "name": "stdout",
     "output_type": "stream",
     "text": [
      "Las 20 mejores variables con ANOVA son:\n",
      "Int64Index([12150, 12278, 12662, 12790, 12918, 13710, 13711, 13951, 13965,\n",
      "            14079, 14207, 14463, 14724, 16259, 16260, 16262, 16263, 16264,\n",
      "            16342, 16343],\n",
      "           dtype='int64')\n"
     ]
    }
   ],
   "source": [
    "kb = SelectKBest(k=20, score_func=f_classif)\n",
    "kb.fit_transform(pd.DataFrame(X1),tabla1[\"Substyle\"])\n",
    "print(\"Las 20 mejores variables con ANOVA son:\")\n",
    "print(pd.DataFrame(X1).columns[kb.get_support()])"
   ]
  },
  {
   "cell_type": "markdown",
   "metadata": {
    "ExecuteTime": {
     "end_time": "2021-09-19T06:19:46.897356Z",
     "start_time": "2021-09-19T06:19:46.878672Z"
    }
   },
   "source": [
    "#### Usando GIST"
   ]
  },
  {
   "cell_type": "code",
   "execution_count": 11,
   "metadata": {
    "ExecuteTime": {
     "end_time": "2021-09-19T06:44:07.557282Z",
     "start_time": "2021-09-19T06:44:07.548710Z"
    }
   },
   "outputs": [],
   "source": [
    "param = {\"orientationsPerScale\":np.array([8, 8, 8, 8]),\n",
    "         \"numberBlocks\":[4, 4],\n",
    "         \"fc_prefilt\":10,\n",
    "         \"boundaryExtension\":32\n",
    "}\n",
    "\n",
    "gist = GIST(param)"
   ]
  },
  {
   "cell_type": "code",
   "execution_count": 13,
   "metadata": {
    "ExecuteTime": {
     "end_time": "2021-09-19T06:45:47.803575Z",
     "start_time": "2021-09-19T06:44:21.276602Z"
    }
   },
   "outputs": [],
   "source": [
    "X_gist = np.array([gist._gist_extract(x) for x in X])"
   ]
  },
  {
   "cell_type": "code",
   "execution_count": 16,
   "metadata": {
    "ExecuteTime": {
     "end_time": "2021-09-19T06:47:13.424071Z",
     "start_time": "2021-09-19T06:47:13.416507Z"
    }
   },
   "outputs": [
    {
     "data": {
      "text/plain": [
       "(330, 512)"
      ]
     },
     "execution_count": 16,
     "metadata": {},
     "output_type": "execute_result"
    }
   ],
   "source": [
    "X_gist.shape"
   ]
  },
  {
   "cell_type": "code",
   "execution_count": 74,
   "metadata": {
    "ExecuteTime": {
     "end_time": "2021-09-19T07:07:50.116421Z",
     "start_time": "2021-09-19T07:07:47.984922Z"
    }
   },
   "outputs": [
    {
     "name": "stdout",
     "output_type": "stream",
     "text": [
      "(192, 192, 32)\n"
     ]
    },
    {
     "data": {
      "image/png": "[encoded data removed]",
      "text/plain": [
       "<Figure size 864x288 with 32 Axes>"
      ]
     },
     "metadata": {
      "needs_background": "light"
     },
     "output_type": "display_data"
    }
   ],
   "source": [
    "i=2\n",
    "\n",
    "# In case you want to see the filters\n",
    "filters = gist._more_config(X[i])\n",
    "print(filters.shape)\n",
    "\n",
    "# Show filters\n",
    "plt.figure(figsize=(12, 4))\n",
    "for i in range(32):\n",
    "  plt.subplot(4, 8, i+1)\n",
    "  plt.imshow(filters[:, :, i], cmap='gray')\n",
    "  plt.axis('off')\n",
    "plt.show()"
   ]
  },
  {
   "cell_type": "code",
   "execution_count": 75,
   "metadata": {
    "ExecuteTime": {
     "end_time": "2021-09-19T07:07:50.566553Z",
     "start_time": "2021-09-19T07:07:50.206335Z"
    }
   },
   "outputs": [
    {
     "data": {
      "image/png": "[encoded data removed]",
      "text/plain": [
       "<Figure size 864x216 with 1 Axes>"
      ]
     },
     "metadata": {
      "needs_background": "light"
     },
     "output_type": "display_data"
    }
   ],
   "source": [
    "# See descriptors\n",
    "n=5\n",
    "\n",
    "plt.figure(figsize=(12, 3))\n",
    "plt.plot(X_gist[0:n,].T, '.')\n",
    "plt.show()"
   ]
  },
  {
   "cell_type": "code",
   "execution_count": 76,
   "metadata": {
    "ExecuteTime": {
     "end_time": "2021-09-19T07:07:56.241682Z",
     "start_time": "2021-09-19T07:07:56.219583Z"
    }
   },
   "outputs": [
    {
     "name": "stdout",
     "output_type": "stream",
     "text": [
      "Las 20 variables con mayor varianza son:\n"
     ]
    },
    {
     "data": {
      "text/plain": [
       "Int64Index([142, 130, 129, 203, 270, 141, 134, 131, 143, 140, 199, 192, 257,\n",
       "            138, 269, 128, 258, 331, 204, 327],\n",
       "           dtype='int64')"
      ]
     },
     "execution_count": 76,
     "metadata": {},
     "output_type": "execute_result"
    }
   ],
   "source": [
    "print(\"Las 20 variables con mayor varianza son:\")\n",
    "pd.DataFrame(pd.DataFrame(X_gist).var()).rename(columns={0:\"variable\"}).sort_values(by=[\"variable\"],ascending=False).head(20).index"
   ]
  },
  {
   "cell_type": "code",
   "execution_count": 77,
   "metadata": {
    "ExecuteTime": {
     "end_time": "2021-09-19T07:07:59.396370Z",
     "start_time": "2021-09-19T07:07:59.359344Z"
    }
   },
   "outputs": [
    {
     "name": "stdout",
     "output_type": "stream",
     "text": [
      "Las 20 mejores variables con ANOVA son:\n",
      "Int64Index([  3,  47,  60,  76, 175, 188, 204, 283, 320, 332, 434, 448, 450,\n",
      "            456, 460, 462, 466, 472, 476, 478],\n",
      "           dtype='int64')\n"
     ]
    }
   ],
   "source": [
    "kb = SelectKBest(k=20, score_func=f_classif)\n",
    "kb.fit_transform(pd.DataFrame(X_gist),tabla1[\"Substyle\"])\n",
    "print(\"Las 20 mejores variables con ANOVA son:\")\n",
    "print(pd.DataFrame(X_gist).columns[kb.get_support()])"
   ]
  },
  {
   "cell_type": "markdown",
   "metadata": {
    "ExecuteTime": {
     "end_time": "2021-09-19T05:37:26.073075Z",
     "start_time": "2021-09-19T05:37:26.053474Z"
    }
   },
   "source": [
    "#### Usando HOG"
   ]
  },
  {
   "cell_type": "code",
   "execution_count": 88,
   "metadata": {
    "ExecuteTime": {
     "end_time": "2021-09-19T07:10:59.941638Z",
     "start_time": "2021-09-19T07:10:59.802235Z"
    }
   },
   "outputs": [],
   "source": [
    "i=2\n",
    "\n",
    "IMG2_hog_desc, IMG2_hog_img = hog(X[i], orientations=9, pixels_per_cell=(8, 8),\n",
    "                                  cells_per_block=(2, 2), visualize=True)"
   ]
  },
  {
   "cell_type": "code",
   "execution_count": 89,
   "metadata": {
    "ExecuteTime": {
     "end_time": "2021-09-19T07:11:01.547680Z",
     "start_time": "2021-09-19T07:11:01.250169Z"
    }
   },
   "outputs": [
    {
     "name": "stdout",
     "output_type": "stream",
     "text": [
      "(128, 128)\n"
     ]
    },
    {
     "data": {
      "image/png": "[encoded data removed]",
      "text/plain": [
       "<Figure size 432x288 with 2 Axes>"
      ]
     },
     "metadata": {
      "needs_background": "light"
     },
     "output_type": "display_data"
    },
    {
     "name": "stdout",
     "output_type": "stream",
     "text": [
      "(8100,)\n"
     ]
    }
   ],
   "source": [
    "# Plot HOG image\n",
    "print(IMG2_hog_img.shape)\n",
    "\n",
    "plt.imshow(IMG2_hog_img, cmap='jet')\n",
    "plt.colorbar()\n",
    "plt.axis('off')\n",
    "plt.show()\n",
    "\n",
    "print(IMG2_hog_desc.shape)"
   ]
  },
  {
   "cell_type": "code",
   "execution_count": 81,
   "metadata": {
    "ExecuteTime": {
     "end_time": "2021-09-19T07:08:51.129223Z",
     "start_time": "2021-09-19T07:08:45.257934Z"
    }
   },
   "outputs": [],
   "source": [
    "X_hog = np.array([hog(x) for x in X])"
   ]
  },
  {
   "cell_type": "code",
   "execution_count": 82,
   "metadata": {
    "ExecuteTime": {
     "end_time": "2021-09-19T07:09:10.820505Z",
     "start_time": "2021-09-19T07:09:10.814919Z"
    }
   },
   "outputs": [
    {
     "data": {
      "text/plain": [
       "(330, 15876)"
      ]
     },
     "execution_count": 82,
     "metadata": {},
     "output_type": "execute_result"
    }
   ],
   "source": [
    "X_hog.shape"
   ]
  },
  {
   "cell_type": "code",
   "execution_count": 83,
   "metadata": {
    "ExecuteTime": {
     "end_time": "2021-09-19T07:09:45.286979Z",
     "start_time": "2021-09-19T07:09:44.896973Z"
    }
   },
   "outputs": [
    {
     "data": {
      "image/png": "[encoded data removed]",
      "text/plain": [
       "<Figure size 864x216 with 1 Axes>"
      ]
     },
     "metadata": {
      "needs_background": "light"
     },
     "output_type": "display_data"
    }
   ],
   "source": [
    "# See descriptors\n",
    "n=5\n",
    "\n",
    "plt.figure(figsize=(12, 3))\n",
    "plt.plot(X_hog[0:n,].T, '.')\n",
    "plt.show()"
   ]
  },
  {
   "cell_type": "code",
   "execution_count": 97,
   "metadata": {
    "ExecuteTime": {
     "end_time": "2021-09-19T07:13:50.119304Z",
     "start_time": "2021-09-19T07:13:49.847881Z"
    }
   },
   "outputs": [
    {
     "name": "stdout",
     "output_type": "stream",
     "text": [
      "Las 20 variables con mayor varianza son:\n"
     ]
    },
    {
     "data": {
      "text/plain": [
       "Int64Index([   74,  1113,  2247,   236,   317,   166,   870,   175,  1208,\n",
       "              994,    94,    85,   103,    76, 14962,  1289,   976, 14890,\n",
       "               65,   184],\n",
       "           dtype='int64')"
      ]
     },
     "execution_count": 97,
     "metadata": {},
     "output_type": "execute_result"
    }
   ],
   "source": [
    "print(\"Las 20 variables con mayor varianza son:\")\n",
    "pd.DataFrame(pd.DataFrame(X_hog).var()).rename(columns={0:\"variable\"}).sort_values(by=[\"variable\"],ascending=False).head(20).index"
   ]
  },
  {
   "cell_type": "code",
   "execution_count": 98,
   "metadata": {
    "ExecuteTime": {
     "end_time": "2021-09-19T07:14:19.942705Z",
     "start_time": "2021-09-19T07:14:19.520334Z"
    }
   },
   "outputs": [
    {
     "name": "stdout",
     "output_type": "stream",
     "text": [
      "Las 20 mejores variables con ANOVA son:\n",
      "Int64Index([  524,   596,   900,   972,   991,  1062,  1071,  1559,  1631,\n",
      "             8582,  9689,  9761, 10796, 12501, 12528, 14769, 15295, 15367,\n",
      "            15709, 15781],\n",
      "           dtype='int64')\n"
     ]
    }
   ],
   "source": [
    "kb = SelectKBest(k=20, score_func=f_classif)\n",
    "kb.fit_transform(pd.DataFrame(X_hog),tabla1[\"Substyle\"])\n",
    "print(\"Las 20 mejores variables con ANOVA son:\")\n",
    "print(pd.DataFrame(X_hog).columns[kb.get_support()])"
   ]
  },
  {
   "cell_type": "markdown",
   "metadata": {},
   "source": [
    "#### Usando GIST y HOG"
   ]
  },
  {
   "cell_type": "code",
   "execution_count": 110,
   "metadata": {
    "ExecuteTime": {
     "end_time": "2021-09-19T07:19:29.395948Z",
     "start_time": "2021-09-19T07:19:29.384041Z"
    }
   },
   "outputs": [
    {
     "data": {
      "text/plain": [
       "(330, 128, 128)"
      ]
     },
     "execution_count": 110,
     "metadata": {},
     "output_type": "execute_result"
    }
   ],
   "source": [
    "X.shape"
   ]
  },
  {
   "cell_type": "code",
   "execution_count": 111,
   "metadata": {
    "ExecuteTime": {
     "end_time": "2021-09-19T07:20:12.193074Z",
     "start_time": "2021-09-19T07:19:35.196485Z"
    }
   },
   "outputs": [],
   "source": [
    "X_f1 = np.array([hog(x, orientations=9, pixels_per_cell=(8, 8),\n",
    "                    cells_per_block=(2, 2), visualize=True)[1] for x in X])"
   ]
  },
  {
   "cell_type": "code",
   "execution_count": 113,
   "metadata": {
    "ExecuteTime": {
     "end_time": "2021-09-19T07:20:44.718506Z",
     "start_time": "2021-09-19T07:20:44.712763Z"
    }
   },
   "outputs": [
    {
     "data": {
      "text/plain": [
       "(330, 128, 128)"
      ]
     },
     "execution_count": 113,
     "metadata": {},
     "output_type": "execute_result"
    }
   ],
   "source": [
    "X_f1.shape"
   ]
  },
  {
   "cell_type": "code",
   "execution_count": 112,
   "metadata": {
    "ExecuteTime": {
     "end_time": "2021-09-19T07:20:32.834218Z",
     "start_time": "2021-09-19T07:20:32.648182Z"
    }
   },
   "outputs": [
    {
     "data": {
      "image/png": "[encoded data removed]",
      "text/plain": [
       "<Figure size 432x288 with 1 Axes>"
      ]
     },
     "metadata": {
      "needs_background": "light"
     },
     "output_type": "display_data"
    },
    {
     "name": "stdout",
     "output_type": "stream",
     "text": [
      "(128, 128)\n"
     ]
    }
   ],
   "source": [
    "i=2\n",
    "plt.imshow(X_f1[i])\n",
    "plt.axis('off')\n",
    "plt.show()\n",
    "print(X_f1[i].shape)"
   ]
  },
  {
   "cell_type": "code",
   "execution_count": 114,
   "metadata": {
    "ExecuteTime": {
     "end_time": "2021-09-19T07:21:00.467364Z",
     "start_time": "2021-09-19T07:21:00.462164Z"
    }
   },
   "outputs": [],
   "source": [
    "param = {\"orientationsPerScale\":np.array([8, 8, 8, 8]),\n",
    "         \"numberBlocks\":[4, 4],\n",
    "         \"fc_prefilt\":10,\n",
    "         \"boundaryExtension\":32\n",
    "}\n",
    "\n",
    "gist = GIST(param)"
   ]
  },
  {
   "cell_type": "code",
   "execution_count": 115,
   "metadata": {
    "ExecuteTime": {
     "end_time": "2021-09-19T07:23:11.738386Z",
     "start_time": "2021-09-19T07:21:39.291301Z"
    }
   },
   "outputs": [],
   "source": [
    "X_f2 = np.array([gist._gist_extract(x) for x in X_f1])"
   ]
  },
  {
   "cell_type": "code",
   "execution_count": 116,
   "metadata": {
    "ExecuteTime": {
     "end_time": "2021-09-19T07:23:14.445266Z",
     "start_time": "2021-09-19T07:23:14.438933Z"
    }
   },
   "outputs": [
    {
     "data": {
      "text/plain": [
       "(330, 512)"
      ]
     },
     "execution_count": 116,
     "metadata": {},
     "output_type": "execute_result"
    }
   ],
   "source": [
    "X_f2.shape"
   ]
  },
  {
   "cell_type": "code",
   "execution_count": 117,
   "metadata": {
    "ExecuteTime": {
     "end_time": "2021-09-19T07:23:25.842766Z",
     "start_time": "2021-09-19T07:23:25.813448Z"
    }
   },
   "outputs": [
    {
     "name": "stdout",
     "output_type": "stream",
     "text": [
      "Las 20 variables con mayor varianza son:\n"
     ]
    },
    {
     "data": {
      "text/plain": [
       "Int64Index([140, 128, 192, 204, 136, 132, 143, 139, 135, 138, 131, 268, 142,\n",
       "            141, 129, 134, 256, 205, 332,  64],\n",
       "           dtype='int64')"
      ]
     },
     "execution_count": 117,
     "metadata": {},
     "output_type": "execute_result"
    }
   ],
   "source": [
    "print(\"Las 20 variables con mayor varianza son:\")\n",
    "pd.DataFrame(pd.DataFrame(X_f2).var()).rename(columns={0:\"variable\"}).sort_values(by=[\"variable\"],ascending=False).head(20).index"
   ]
  },
  {
   "cell_type": "code",
   "execution_count": 118,
   "metadata": {
    "ExecuteTime": {
     "end_time": "2021-09-19T07:23:56.983555Z",
     "start_time": "2021-09-19T07:23:56.941840Z"
    }
   },
   "outputs": [
    {
     "name": "stdout",
     "output_type": "stream",
     "text": [
      "Las 20 mejores variables con ANOVA son:\n",
      "Int64Index([ 15,  32,  62,  71,  75, 118, 140, 160, 236, 252, 258, 268, 303,\n",
      "            370, 380, 398, 441, 452, 459, 460],\n",
      "           dtype='int64')\n"
     ]
    }
   ],
   "source": [
    "kb = SelectKBest(k=20, score_func=f_classif)\n",
    "kb.fit_transform(pd.DataFrame(X_f2),tabla1[\"Substyle\"])\n",
    "print(\"Las 20 mejores variables con ANOVA son:\")\n",
    "print(pd.DataFrame(X_f2).columns[kb.get_support()])"
   ]
  },
  {
   "cell_type": "code",
   "execution_count": null,
   "metadata": {},
   "outputs": [],
   "source": []
  },
  {
   "cell_type": "code",
   "execution_count": null,
   "metadata": {},
   "outputs": [],
   "source": []
  },
  {
   "cell_type": "code",
   "execution_count": null,
   "metadata": {},
   "outputs": [],
   "source": []
  },
  {
   "cell_type": "code",
   "execution_count": null,
   "metadata": {},
   "outputs": [],
   "source": []
  },
  {
   "cell_type": "code",
   "execution_count": null,
   "metadata": {},
   "outputs": [],
   "source": []
  },
  {
   "cell_type": "code",
   "execution_count": null,
   "metadata": {},
   "outputs": [],
   "source": []
  }
 ],
 "metadata": {
  "kernelspec": {
   "display_name": "virtual_itam",
   "language": "python",
   "name": "virtual_itam"
  },
  "language_info": {
   "codemirror_mode": {
    "name": "ipython",
    "version": 3
   },
   "file_extension": ".py",
   "mimetype": "text/x-python",
   "name": "python",
   "nbconvert_exporter": "python",
   "pygments_lexer": "ipython3",
   "version": "3.8.10"
  },
  "toc": {
   "base_numbering": 1,
   "nav_menu": {},
   "number_sections": true,
   "sideBar": true,
   "skip_h1_title": false,
   "title_cell": "Table of Contents",
   "title_sidebar": "Contents",
   "toc_cell": false,
   "toc_position": {},
   "toc_section_display": true,
   "toc_window_display": true
  }
 },
 "nbformat": 4,
 "nbformat_minor": 5
}
